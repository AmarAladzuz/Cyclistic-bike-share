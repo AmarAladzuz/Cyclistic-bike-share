{
 "cells": [
  {
   "cell_type": "markdown",
   "id": "816f773f",
   "metadata": {
    "papermill": {
     "duration": 0.047621,
     "end_time": "2022-04-16T10:15:09.494425",
     "exception": false,
     "start_time": "2022-04-16T10:15:09.446804",
     "status": "completed"
    },
    "tags": []
   },
   "source": [
    "# Import packages and data\n"
   ]
  },
  {
   "cell_type": "code",
   "execution_count": 1,
   "id": "ff12228e",
   "metadata": {
    "execution": {
     "iopub.execute_input": "2022-04-16T10:15:09.595745Z",
     "iopub.status.busy": "2022-04-16T10:15:09.594395Z",
     "iopub.status.idle": "2022-04-16T10:15:10.938356Z",
     "shell.execute_reply": "2022-04-16T10:15:10.938912Z",
     "shell.execute_reply.started": "2022-04-16T09:19:26.407911Z"
    },
    "papermill": {
     "duration": 1.396827,
     "end_time": "2022-04-16T10:15:10.939235",
     "exception": false,
     "start_time": "2022-04-16T10:15:09.542408",
     "status": "completed"
    },
    "tags": []
   },
   "outputs": [],
   "source": [
    "import pandas as pd\n",
    "import numpy as np\n",
    "import matplotlib.pyplot as plt\n",
    "%matplotlib inline\n",
    "import matplotlib as mpl\n",
    "mpl.rcParams['agg.path.chunksize'] = 10000\n",
    "import datetime\n",
    "from sklearn.preprocessing import StandardScaler\n",
    "from datetime import datetime\n",
    "import seaborn as sns\n",
    "plt.style.use('ggplot')\n",
    "import calendar"
   ]
  },
  {
   "cell_type": "code",
   "execution_count": 2,
   "id": "5aae75ae",
   "metadata": {
    "execution": {
     "iopub.execute_input": "2022-04-16T10:15:11.037276Z",
     "iopub.status.busy": "2022-04-16T10:15:11.036543Z",
     "iopub.status.idle": "2022-04-16T10:15:30.937862Z",
     "shell.execute_reply": "2022-04-16T10:15:30.937262Z",
     "shell.execute_reply.started": "2022-04-16T09:19:27.660716Z"
    },
    "papermill": {
     "duration": 19.950182,
     "end_time": "2022-04-16T10:15:30.938036",
     "exception": false,
     "start_time": "2022-04-16T10:15:10.987854",
     "status": "completed"
    },
    "tags": []
   },
   "outputs": [],
   "source": [
    "d1 = pd.read_csv(\"../input/cyclistic-bikeshare/2020.04.csv\")\n",
    "d2 = pd.read_csv(\"../input/cyclistic-bikeshare/2020.05.csv\")\n",
    "d3 = pd.read_csv(\"../input/cyclistic-bikeshare/2020.06.csv\")\n",
    "d4 = pd.read_csv(\"../input/cyclistic-bikeshare/2020.07.csv\")\n",
    "d5 = pd.read_csv(\"../input/cyclistic-bikeshare/2020.08.csv\")\n",
    "d6 = pd.read_csv(\"../input/cyclistic-bikeshare/2020.09.csv\")\n",
    "d7 = pd.read_csv(\"../input/cyclistic-bikeshare/2020.10.csv\")\n",
    "d8 = pd.read_csv(\"../input/cyclistic-bikeshare/2020.11.csv\")\n",
    "d9 = pd.read_csv(\"../input/cyclistic-bikeshare/2020.12.csv\")\n",
    "d10 = pd.read_csv(\"../input/cyclistic-bikeshare/2021.01.csv\")\n",
    "d11 = pd.read_csv(\"../input/cyclistic-bikeshare/2021.02.csv\")\n",
    "d12 = pd.read_csv(\"../input/cyclistic-bikeshare/2021.03.csv\")"
   ]
  },
  {
   "cell_type": "code",
   "execution_count": 3,
   "id": "1e24cfd5",
   "metadata": {
    "execution": {
     "iopub.execute_input": "2022-04-16T10:15:31.043341Z",
     "iopub.status.busy": "2022-04-16T10:15:31.042362Z",
     "iopub.status.idle": "2022-04-16T10:15:32.597731Z",
     "shell.execute_reply": "2022-04-16T10:15:32.597085Z",
     "shell.execute_reply.started": "2022-04-16T09:19:48.588151Z"
    },
    "papermill": {
     "duration": 1.611272,
     "end_time": "2022-04-16T10:15:32.597882",
     "exception": false,
     "start_time": "2022-04-16T10:15:30.986610",
     "status": "completed"
    },
    "tags": []
   },
   "outputs": [
    {
     "data": {
      "text/html": [
       "<div>\n",
       "<style scoped>\n",
       "    .dataframe tbody tr th:only-of-type {\n",
       "        vertical-align: middle;\n",
       "    }\n",
       "\n",
       "    .dataframe tbody tr th {\n",
       "        vertical-align: top;\n",
       "    }\n",
       "\n",
       "    .dataframe thead th {\n",
       "        text-align: right;\n",
       "    }\n",
       "</style>\n",
       "<table border=\"1\" class=\"dataframe\">\n",
       "  <thead>\n",
       "    <tr style=\"text-align: right;\">\n",
       "      <th></th>\n",
       "      <th>ride_id</th>\n",
       "      <th>rideable_type</th>\n",
       "      <th>started_at</th>\n",
       "      <th>ended_at</th>\n",
       "      <th>start_station_name</th>\n",
       "      <th>start_station_id</th>\n",
       "      <th>end_station_name</th>\n",
       "      <th>end_station_id</th>\n",
       "      <th>start_lat</th>\n",
       "      <th>start_lng</th>\n",
       "      <th>end_lat</th>\n",
       "      <th>end_lng</th>\n",
       "      <th>member_casual</th>\n",
       "    </tr>\n",
       "  </thead>\n",
       "  <tbody>\n",
       "    <tr>\n",
       "      <th>0</th>\n",
       "      <td>A847FADBBC638E45</td>\n",
       "      <td>docked_bike</td>\n",
       "      <td>2020-04-26 17:45:14</td>\n",
       "      <td>2020-04-26 18:12:03</td>\n",
       "      <td>Eckhart Park</td>\n",
       "      <td>86</td>\n",
       "      <td>Lincoln Ave &amp; Diversey Pkwy</td>\n",
       "      <td>152.0</td>\n",
       "      <td>41.8964</td>\n",
       "      <td>-87.6610</td>\n",
       "      <td>41.9322</td>\n",
       "      <td>-87.6586</td>\n",
       "      <td>member</td>\n",
       "    </tr>\n",
       "    <tr>\n",
       "      <th>1</th>\n",
       "      <td>5405B80E996FF60D</td>\n",
       "      <td>docked_bike</td>\n",
       "      <td>2020-04-17 17:08:54</td>\n",
       "      <td>2020-04-17 17:17:03</td>\n",
       "      <td>Drake Ave &amp; Fullerton Ave</td>\n",
       "      <td>503</td>\n",
       "      <td>Kosciuszko Park</td>\n",
       "      <td>499.0</td>\n",
       "      <td>41.9244</td>\n",
       "      <td>-87.7154</td>\n",
       "      <td>41.9306</td>\n",
       "      <td>-87.7238</td>\n",
       "      <td>member</td>\n",
       "    </tr>\n",
       "    <tr>\n",
       "      <th>2</th>\n",
       "      <td>5DD24A79A4E006F4</td>\n",
       "      <td>docked_bike</td>\n",
       "      <td>2020-04-01 17:54:13</td>\n",
       "      <td>2020-04-01 18:08:36</td>\n",
       "      <td>McClurg Ct &amp; Erie St</td>\n",
       "      <td>142</td>\n",
       "      <td>Indiana Ave &amp; Roosevelt Rd</td>\n",
       "      <td>255.0</td>\n",
       "      <td>41.8945</td>\n",
       "      <td>-87.6179</td>\n",
       "      <td>41.8679</td>\n",
       "      <td>-87.6230</td>\n",
       "      <td>member</td>\n",
       "    </tr>\n",
       "    <tr>\n",
       "      <th>3</th>\n",
       "      <td>2A59BBDF5CDBA725</td>\n",
       "      <td>docked_bike</td>\n",
       "      <td>2020-04-07 12:50:19</td>\n",
       "      <td>2020-04-07 13:02:31</td>\n",
       "      <td>California Ave &amp; Division St</td>\n",
       "      <td>216</td>\n",
       "      <td>Wood St &amp; Augusta Blvd</td>\n",
       "      <td>657.0</td>\n",
       "      <td>41.9030</td>\n",
       "      <td>-87.6975</td>\n",
       "      <td>41.8992</td>\n",
       "      <td>-87.6722</td>\n",
       "      <td>member</td>\n",
       "    </tr>\n",
       "    <tr>\n",
       "      <th>4</th>\n",
       "      <td>27AD306C119C6158</td>\n",
       "      <td>docked_bike</td>\n",
       "      <td>2020-04-18 10:22:59</td>\n",
       "      <td>2020-04-18 11:15:54</td>\n",
       "      <td>Rush St &amp; Hubbard St</td>\n",
       "      <td>125</td>\n",
       "      <td>Sheridan Rd &amp; Lawrence Ave</td>\n",
       "      <td>323.0</td>\n",
       "      <td>41.8902</td>\n",
       "      <td>-87.6262</td>\n",
       "      <td>41.9695</td>\n",
       "      <td>-87.6547</td>\n",
       "      <td>casual</td>\n",
       "    </tr>\n",
       "  </tbody>\n",
       "</table>\n",
       "</div>"
      ],
      "text/plain": [
       "            ride_id rideable_type           started_at             ended_at  \\\n",
       "0  A847FADBBC638E45   docked_bike  2020-04-26 17:45:14  2020-04-26 18:12:03   \n",
       "1  5405B80E996FF60D   docked_bike  2020-04-17 17:08:54  2020-04-17 17:17:03   \n",
       "2  5DD24A79A4E006F4   docked_bike  2020-04-01 17:54:13  2020-04-01 18:08:36   \n",
       "3  2A59BBDF5CDBA725   docked_bike  2020-04-07 12:50:19  2020-04-07 13:02:31   \n",
       "4  27AD306C119C6158   docked_bike  2020-04-18 10:22:59  2020-04-18 11:15:54   \n",
       "\n",
       "             start_station_name start_station_id             end_station_name  \\\n",
       "0                  Eckhart Park               86  Lincoln Ave & Diversey Pkwy   \n",
       "1     Drake Ave & Fullerton Ave              503              Kosciuszko Park   \n",
       "2          McClurg Ct & Erie St              142   Indiana Ave & Roosevelt Rd   \n",
       "3  California Ave & Division St              216       Wood St & Augusta Blvd   \n",
       "4          Rush St & Hubbard St              125   Sheridan Rd & Lawrence Ave   \n",
       "\n",
       "  end_station_id  start_lat  start_lng  end_lat  end_lng member_casual  \n",
       "0          152.0    41.8964   -87.6610  41.9322 -87.6586        member  \n",
       "1          499.0    41.9244   -87.7154  41.9306 -87.7238        member  \n",
       "2          255.0    41.8945   -87.6179  41.8679 -87.6230        member  \n",
       "3          657.0    41.9030   -87.6975  41.8992 -87.6722        member  \n",
       "4          323.0    41.8902   -87.6262  41.9695 -87.6547        casual  "
      ]
     },
     "execution_count": 3,
     "metadata": {},
     "output_type": "execute_result"
    }
   ],
   "source": [
    "df = pd.concat(objs= [d1,d2,d3,d4,d5,d6,d7,d8,d9,d10,d11,d12])\n",
    "df.reset_index(inplace = True, drop = True)\n",
    "df.head()"
   ]
  },
  {
   "cell_type": "markdown",
   "id": "552e22a6",
   "metadata": {
    "papermill": {
     "duration": 0.050237,
     "end_time": "2022-04-16T10:15:32.698601",
     "exception": false,
     "start_time": "2022-04-16T10:15:32.648364",
     "status": "completed"
    },
    "tags": []
   },
   "source": [
    "# Check and change data types"
   ]
  },
  {
   "cell_type": "code",
   "execution_count": 4,
   "id": "324db10e",
   "metadata": {
    "execution": {
     "iopub.execute_input": "2022-04-16T10:15:32.811116Z",
     "iopub.status.busy": "2022-04-16T10:15:32.809028Z",
     "iopub.status.idle": "2022-04-16T10:15:32.813887Z",
     "shell.execute_reply": "2022-04-16T10:15:32.813329Z",
     "shell.execute_reply.started": "2022-04-16T09:19:50.062638Z"
    },
    "papermill": {
     "duration": 0.064209,
     "end_time": "2022-04-16T10:15:32.814065",
     "exception": false,
     "start_time": "2022-04-16T10:15:32.749856",
     "status": "completed"
    },
    "tags": []
   },
   "outputs": [
    {
     "data": {
      "text/plain": [
       "ride_id                object\n",
       "rideable_type          object\n",
       "started_at             object\n",
       "ended_at               object\n",
       "start_station_name     object\n",
       "start_station_id       object\n",
       "end_station_name       object\n",
       "end_station_id         object\n",
       "start_lat             float64\n",
       "start_lng             float64\n",
       "end_lat               float64\n",
       "end_lng               float64\n",
       "member_casual          object\n",
       "dtype: object"
      ]
     },
     "execution_count": 4,
     "metadata": {},
     "output_type": "execute_result"
    }
   ],
   "source": [
    "df.dtypes"
   ]
  },
  {
   "cell_type": "code",
   "execution_count": 5,
   "id": "ad8bd8d0",
   "metadata": {
    "execution": {
     "iopub.execute_input": "2022-04-16T10:15:32.920575Z",
     "iopub.status.busy": "2022-04-16T10:15:32.919805Z",
     "iopub.status.idle": "2022-04-16T10:15:35.761408Z",
     "shell.execute_reply": "2022-04-16T10:15:35.761996Z",
     "shell.execute_reply.started": "2022-04-16T09:19:50.072911Z"
    },
    "papermill": {
     "duration": 2.898903,
     "end_time": "2022-04-16T10:15:35.762179",
     "exception": false,
     "start_time": "2022-04-16T10:15:32.863276",
     "status": "completed"
    },
    "tags": []
   },
   "outputs": [],
   "source": [
    "#change started_at and ended_at to datetime\n",
    "\n",
    "df[\"started_at\"] = pd.to_datetime(df[\"started_at\"])\n",
    "df[\"ended_at\"] = pd.to_datetime(df[\"ended_at\"])"
   ]
  },
  {
   "cell_type": "markdown",
   "id": "9d345892",
   "metadata": {
    "papermill": {
     "duration": 0.047532,
     "end_time": "2022-04-16T10:15:35.858271",
     "exception": false,
     "start_time": "2022-04-16T10:15:35.810739",
     "status": "completed"
    },
    "tags": []
   },
   "source": [
    "# Creating new variable/s"
   ]
  },
  {
   "cell_type": "code",
   "execution_count": 6,
   "id": "8853b3c4",
   "metadata": {
    "execution": {
     "iopub.execute_input": "2022-04-16T10:15:35.955309Z",
     "iopub.status.busy": "2022-04-16T10:15:35.954618Z",
     "iopub.status.idle": "2022-04-16T10:15:36.093818Z",
     "shell.execute_reply": "2022-04-16T10:15:36.093210Z",
     "shell.execute_reply.started": "2022-04-16T09:19:52.900856Z"
    },
    "papermill": {
     "duration": 0.188718,
     "end_time": "2022-04-16T10:15:36.094009",
     "exception": false,
     "start_time": "2022-04-16T10:15:35.905291",
     "status": "completed"
    },
    "tags": []
   },
   "outputs": [],
   "source": [
    "#creating duration of ride\n",
    "\n",
    "df[\"ride_duration\"] = df[\"ended_at\"] - df[\"started_at\"]\n",
    "\n",
    "\n",
    "#convert to minutes\n",
    "\n",
    "df[\"ride_duration\"] = df[\"ride_duration\"].dt.total_seconds()\n",
    "df[\"ride_duration\"] = (df[\"ride_duration\"]/60).round(2)\n",
    "\n",
    "\n",
    "#rename\n",
    "\n",
    "df.rename(columns = {\"ride_duration\":\"ride_duration_min\"}, inplace= True)"
   ]
  },
  {
   "cell_type": "code",
   "execution_count": 7,
   "id": "15e0f24c",
   "metadata": {
    "execution": {
     "iopub.execute_input": "2022-04-16T10:15:36.195941Z",
     "iopub.status.busy": "2022-04-16T10:15:36.195248Z",
     "iopub.status.idle": "2022-04-16T10:15:36.535544Z",
     "shell.execute_reply": "2022-04-16T10:15:36.534940Z",
     "shell.execute_reply.started": "2022-04-16T09:19:53.031791Z"
    },
    "papermill": {
     "duration": 0.393262,
     "end_time": "2022-04-16T10:15:36.535699",
     "exception": false,
     "start_time": "2022-04-16T10:15:36.142437",
     "status": "completed"
    },
    "tags": []
   },
   "outputs": [],
   "source": [
    "#creating hour of ride\n",
    "\n",
    "df[\"hour\"] = df[\"started_at\"].dt.hour"
   ]
  },
  {
   "cell_type": "code",
   "execution_count": 8,
   "id": "c8142133",
   "metadata": {
    "execution": {
     "iopub.execute_input": "2022-04-16T10:15:36.635627Z",
     "iopub.status.busy": "2022-04-16T10:15:36.634865Z",
     "iopub.status.idle": "2022-04-16T10:15:37.981307Z",
     "shell.execute_reply": "2022-04-16T10:15:37.980722Z",
     "shell.execute_reply.started": "2022-04-16T09:19:53.355403Z"
    },
    "papermill": {
     "duration": 1.398459,
     "end_time": "2022-04-16T10:15:37.981466",
     "exception": false,
     "start_time": "2022-04-16T10:15:36.583007",
     "status": "completed"
    },
    "tags": []
   },
   "outputs": [],
   "source": [
    "#creating day of ride(week)\n",
    "\n",
    "df[\"day\"] = df[\"started_at\"].dt.day_name()"
   ]
  },
  {
   "cell_type": "code",
   "execution_count": 9,
   "id": "4809146b",
   "metadata": {
    "execution": {
     "iopub.execute_input": "2022-04-16T10:15:38.079267Z",
     "iopub.status.busy": "2022-04-16T10:15:38.078239Z",
     "iopub.status.idle": "2022-04-16T10:15:54.355396Z",
     "shell.execute_reply": "2022-04-16T10:15:54.355893Z",
     "shell.execute_reply.started": "2022-04-16T09:19:54.676571Z"
    },
    "papermill": {
     "duration": 16.327629,
     "end_time": "2022-04-16T10:15:54.356128",
     "exception": false,
     "start_time": "2022-04-16T10:15:38.028499",
     "status": "completed"
    },
    "tags": []
   },
   "outputs": [],
   "source": [
    "#creating month of ride\n",
    "\n",
    "df[\"month\"] = df[\"started_at\"].dt.month.apply(lambda x: calendar.month_name[x])\n",
    "df[\"month\"] = df[\"month\"].apply(lambda x: x[:3])"
   ]
  },
  {
   "cell_type": "markdown",
   "id": "1b176198",
   "metadata": {
    "papermill": {
     "duration": 0.046881,
     "end_time": "2022-04-16T10:15:54.451024",
     "exception": false,
     "start_time": "2022-04-16T10:15:54.404143",
     "status": "completed"
    },
    "tags": []
   },
   "source": [
    "# Check for missing data, outliers, cleaning data"
   ]
  },
  {
   "cell_type": "markdown",
   "id": "38396653",
   "metadata": {
    "papermill": {
     "duration": 0.04749,
     "end_time": "2022-04-16T10:15:54.546227",
     "exception": false,
     "start_time": "2022-04-16T10:15:54.498737",
     "status": "completed"
    },
    "tags": []
   },
   "source": [
    "### Missing data"
   ]
  },
  {
   "cell_type": "code",
   "execution_count": 10,
   "id": "20e17b14",
   "metadata": {
    "execution": {
     "iopub.execute_input": "2022-04-16T10:15:54.643983Z",
     "iopub.status.busy": "2022-04-16T10:15:54.642983Z",
     "iopub.status.idle": "2022-04-16T10:15:57.702860Z",
     "shell.execute_reply": "2022-04-16T10:15:57.703444Z",
     "shell.execute_reply.started": "2022-04-16T09:20:11.365293Z"
    },
    "papermill": {
     "duration": 3.110229,
     "end_time": "2022-04-16T10:15:57.703625",
     "exception": false,
     "start_time": "2022-04-16T10:15:54.593396",
     "status": "completed"
    },
    "tags": []
   },
   "outputs": [
    {
     "data": {
      "text/html": [
       "<div>\n",
       "<style scoped>\n",
       "    .dataframe tbody tr th:only-of-type {\n",
       "        vertical-align: middle;\n",
       "    }\n",
       "\n",
       "    .dataframe tbody tr th {\n",
       "        vertical-align: top;\n",
       "    }\n",
       "\n",
       "    .dataframe thead th {\n",
       "        text-align: right;\n",
       "    }\n",
       "</style>\n",
       "<table border=\"1\" class=\"dataframe\">\n",
       "  <thead>\n",
       "    <tr style=\"text-align: right;\">\n",
       "      <th></th>\n",
       "      <th>ride_id</th>\n",
       "      <th>rideable_type</th>\n",
       "      <th>started_at</th>\n",
       "      <th>ended_at</th>\n",
       "      <th>start_station_name</th>\n",
       "      <th>start_station_id</th>\n",
       "      <th>end_station_name</th>\n",
       "      <th>end_station_id</th>\n",
       "      <th>start_lat</th>\n",
       "      <th>start_lng</th>\n",
       "      <th>end_lat</th>\n",
       "      <th>end_lng</th>\n",
       "      <th>member_casual</th>\n",
       "      <th>ride_duration_min</th>\n",
       "      <th>hour</th>\n",
       "      <th>day</th>\n",
       "      <th>month</th>\n",
       "    </tr>\n",
       "  </thead>\n",
       "  <tbody>\n",
       "    <tr>\n",
       "      <th>0</th>\n",
       "      <td>False</td>\n",
       "      <td>False</td>\n",
       "      <td>False</td>\n",
       "      <td>False</td>\n",
       "      <td>False</td>\n",
       "      <td>False</td>\n",
       "      <td>False</td>\n",
       "      <td>False</td>\n",
       "      <td>False</td>\n",
       "      <td>False</td>\n",
       "      <td>False</td>\n",
       "      <td>False</td>\n",
       "      <td>False</td>\n",
       "      <td>False</td>\n",
       "      <td>False</td>\n",
       "      <td>False</td>\n",
       "      <td>False</td>\n",
       "    </tr>\n",
       "    <tr>\n",
       "      <th>1</th>\n",
       "      <td>False</td>\n",
       "      <td>False</td>\n",
       "      <td>False</td>\n",
       "      <td>False</td>\n",
       "      <td>False</td>\n",
       "      <td>False</td>\n",
       "      <td>False</td>\n",
       "      <td>False</td>\n",
       "      <td>False</td>\n",
       "      <td>False</td>\n",
       "      <td>False</td>\n",
       "      <td>False</td>\n",
       "      <td>False</td>\n",
       "      <td>False</td>\n",
       "      <td>False</td>\n",
       "      <td>False</td>\n",
       "      <td>False</td>\n",
       "    </tr>\n",
       "    <tr>\n",
       "      <th>2</th>\n",
       "      <td>False</td>\n",
       "      <td>False</td>\n",
       "      <td>False</td>\n",
       "      <td>False</td>\n",
       "      <td>False</td>\n",
       "      <td>False</td>\n",
       "      <td>False</td>\n",
       "      <td>False</td>\n",
       "      <td>False</td>\n",
       "      <td>False</td>\n",
       "      <td>False</td>\n",
       "      <td>False</td>\n",
       "      <td>False</td>\n",
       "      <td>False</td>\n",
       "      <td>False</td>\n",
       "      <td>False</td>\n",
       "      <td>False</td>\n",
       "    </tr>\n",
       "    <tr>\n",
       "      <th>3</th>\n",
       "      <td>False</td>\n",
       "      <td>False</td>\n",
       "      <td>False</td>\n",
       "      <td>False</td>\n",
       "      <td>False</td>\n",
       "      <td>False</td>\n",
       "      <td>False</td>\n",
       "      <td>False</td>\n",
       "      <td>False</td>\n",
       "      <td>False</td>\n",
       "      <td>False</td>\n",
       "      <td>False</td>\n",
       "      <td>False</td>\n",
       "      <td>False</td>\n",
       "      <td>False</td>\n",
       "      <td>False</td>\n",
       "      <td>False</td>\n",
       "    </tr>\n",
       "    <tr>\n",
       "      <th>4</th>\n",
       "      <td>False</td>\n",
       "      <td>False</td>\n",
       "      <td>False</td>\n",
       "      <td>False</td>\n",
       "      <td>False</td>\n",
       "      <td>False</td>\n",
       "      <td>False</td>\n",
       "      <td>False</td>\n",
       "      <td>False</td>\n",
       "      <td>False</td>\n",
       "      <td>False</td>\n",
       "      <td>False</td>\n",
       "      <td>False</td>\n",
       "      <td>False</td>\n",
       "      <td>False</td>\n",
       "      <td>False</td>\n",
       "      <td>False</td>\n",
       "    </tr>\n",
       "    <tr>\n",
       "      <th>...</th>\n",
       "      <td>...</td>\n",
       "      <td>...</td>\n",
       "      <td>...</td>\n",
       "      <td>...</td>\n",
       "      <td>...</td>\n",
       "      <td>...</td>\n",
       "      <td>...</td>\n",
       "      <td>...</td>\n",
       "      <td>...</td>\n",
       "      <td>...</td>\n",
       "      <td>...</td>\n",
       "      <td>...</td>\n",
       "      <td>...</td>\n",
       "      <td>...</td>\n",
       "      <td>...</td>\n",
       "      <td>...</td>\n",
       "      <td>...</td>\n",
       "    </tr>\n",
       "    <tr>\n",
       "      <th>3489743</th>\n",
       "      <td>False</td>\n",
       "      <td>False</td>\n",
       "      <td>False</td>\n",
       "      <td>False</td>\n",
       "      <td>False</td>\n",
       "      <td>False</td>\n",
       "      <td>False</td>\n",
       "      <td>False</td>\n",
       "      <td>False</td>\n",
       "      <td>False</td>\n",
       "      <td>False</td>\n",
       "      <td>False</td>\n",
       "      <td>False</td>\n",
       "      <td>False</td>\n",
       "      <td>False</td>\n",
       "      <td>False</td>\n",
       "      <td>False</td>\n",
       "    </tr>\n",
       "    <tr>\n",
       "      <th>3489744</th>\n",
       "      <td>False</td>\n",
       "      <td>False</td>\n",
       "      <td>False</td>\n",
       "      <td>False</td>\n",
       "      <td>False</td>\n",
       "      <td>False</td>\n",
       "      <td>False</td>\n",
       "      <td>False</td>\n",
       "      <td>False</td>\n",
       "      <td>False</td>\n",
       "      <td>False</td>\n",
       "      <td>False</td>\n",
       "      <td>False</td>\n",
       "      <td>False</td>\n",
       "      <td>False</td>\n",
       "      <td>False</td>\n",
       "      <td>False</td>\n",
       "    </tr>\n",
       "    <tr>\n",
       "      <th>3489745</th>\n",
       "      <td>False</td>\n",
       "      <td>False</td>\n",
       "      <td>False</td>\n",
       "      <td>False</td>\n",
       "      <td>False</td>\n",
       "      <td>False</td>\n",
       "      <td>False</td>\n",
       "      <td>False</td>\n",
       "      <td>False</td>\n",
       "      <td>False</td>\n",
       "      <td>False</td>\n",
       "      <td>False</td>\n",
       "      <td>False</td>\n",
       "      <td>False</td>\n",
       "      <td>False</td>\n",
       "      <td>False</td>\n",
       "      <td>False</td>\n",
       "    </tr>\n",
       "    <tr>\n",
       "      <th>3489746</th>\n",
       "      <td>False</td>\n",
       "      <td>False</td>\n",
       "      <td>False</td>\n",
       "      <td>False</td>\n",
       "      <td>False</td>\n",
       "      <td>False</td>\n",
       "      <td>False</td>\n",
       "      <td>False</td>\n",
       "      <td>False</td>\n",
       "      <td>False</td>\n",
       "      <td>False</td>\n",
       "      <td>False</td>\n",
       "      <td>False</td>\n",
       "      <td>False</td>\n",
       "      <td>False</td>\n",
       "      <td>False</td>\n",
       "      <td>False</td>\n",
       "    </tr>\n",
       "    <tr>\n",
       "      <th>3489747</th>\n",
       "      <td>False</td>\n",
       "      <td>False</td>\n",
       "      <td>False</td>\n",
       "      <td>False</td>\n",
       "      <td>True</td>\n",
       "      <td>True</td>\n",
       "      <td>False</td>\n",
       "      <td>False</td>\n",
       "      <td>False</td>\n",
       "      <td>False</td>\n",
       "      <td>False</td>\n",
       "      <td>False</td>\n",
       "      <td>False</td>\n",
       "      <td>False</td>\n",
       "      <td>False</td>\n",
       "      <td>False</td>\n",
       "      <td>False</td>\n",
       "    </tr>\n",
       "  </tbody>\n",
       "</table>\n",
       "<p>3489748 rows × 17 columns</p>\n",
       "</div>"
      ],
      "text/plain": [
       "         ride_id  rideable_type  started_at  ended_at  start_station_name  \\\n",
       "0          False          False       False     False               False   \n",
       "1          False          False       False     False               False   \n",
       "2          False          False       False     False               False   \n",
       "3          False          False       False     False               False   \n",
       "4          False          False       False     False               False   \n",
       "...          ...            ...         ...       ...                 ...   \n",
       "3489743    False          False       False     False               False   \n",
       "3489744    False          False       False     False               False   \n",
       "3489745    False          False       False     False               False   \n",
       "3489746    False          False       False     False               False   \n",
       "3489747    False          False       False     False                True   \n",
       "\n",
       "         start_station_id  end_station_name  end_station_id  start_lat  \\\n",
       "0                   False             False           False      False   \n",
       "1                   False             False           False      False   \n",
       "2                   False             False           False      False   \n",
       "3                   False             False           False      False   \n",
       "4                   False             False           False      False   \n",
       "...                   ...               ...             ...        ...   \n",
       "3489743             False             False           False      False   \n",
       "3489744             False             False           False      False   \n",
       "3489745             False             False           False      False   \n",
       "3489746             False             False           False      False   \n",
       "3489747              True             False           False      False   \n",
       "\n",
       "         start_lng  end_lat  end_lng  member_casual  ride_duration_min   hour  \\\n",
       "0            False    False    False          False              False  False   \n",
       "1            False    False    False          False              False  False   \n",
       "2            False    False    False          False              False  False   \n",
       "3            False    False    False          False              False  False   \n",
       "4            False    False    False          False              False  False   \n",
       "...            ...      ...      ...            ...                ...    ...   \n",
       "3489743      False    False    False          False              False  False   \n",
       "3489744      False    False    False          False              False  False   \n",
       "3489745      False    False    False          False              False  False   \n",
       "3489746      False    False    False          False              False  False   \n",
       "3489747      False    False    False          False              False  False   \n",
       "\n",
       "           day  month  \n",
       "0        False  False  \n",
       "1        False  False  \n",
       "2        False  False  \n",
       "3        False  False  \n",
       "4        False  False  \n",
       "...        ...    ...  \n",
       "3489743  False  False  \n",
       "3489744  False  False  \n",
       "3489745  False  False  \n",
       "3489746  False  False  \n",
       "3489747  False  False  \n",
       "\n",
       "[3489748 rows x 17 columns]"
      ]
     },
     "execution_count": 10,
     "metadata": {},
     "output_type": "execute_result"
    }
   ],
   "source": [
    "df.isnull()"
   ]
  },
  {
   "cell_type": "code",
   "execution_count": 11,
   "id": "d7e40fb8",
   "metadata": {
    "execution": {
     "iopub.execute_input": "2022-04-16T10:15:58.897411Z",
     "iopub.status.busy": "2022-04-16T10:15:58.896640Z",
     "iopub.status.idle": "2022-04-16T10:16:00.815603Z",
     "shell.execute_reply": "2022-04-16T10:16:00.814939Z",
     "shell.execute_reply.started": "2022-04-16T09:20:14.373720Z"
    },
    "papermill": {
     "duration": 3.062657,
     "end_time": "2022-04-16T10:16:00.815739",
     "exception": false,
     "start_time": "2022-04-16T10:15:57.753082",
     "status": "completed"
    },
    "tags": []
   },
   "outputs": [
    {
     "data": {
      "text/plain": [
       "ride_id               False\n",
       "rideable_type         False\n",
       "started_at            False\n",
       "ended_at              False\n",
       "start_station_name     True\n",
       "start_station_id       True\n",
       "end_station_name       True\n",
       "end_station_id         True\n",
       "start_lat             False\n",
       "start_lng             False\n",
       "end_lat                True\n",
       "end_lng                True\n",
       "member_casual         False\n",
       "ride_duration_min     False\n",
       "hour                  False\n",
       "day                   False\n",
       "month                 False\n",
       "dtype: bool"
      ]
     },
     "execution_count": 11,
     "metadata": {},
     "output_type": "execute_result"
    }
   ],
   "source": [
    "df.isnull().any()"
   ]
  },
  {
   "cell_type": "code",
   "execution_count": 12,
   "id": "9909ea3b",
   "metadata": {
    "execution": {
     "iopub.execute_input": "2022-04-16T10:16:02.043794Z",
     "iopub.status.busy": "2022-04-16T10:16:02.042761Z",
     "iopub.status.idle": "2022-04-16T10:16:03.989292Z",
     "shell.execute_reply": "2022-04-16T10:16:03.989811Z",
     "shell.execute_reply.started": "2022-04-16T09:20:17.362215Z"
    },
    "papermill": {
     "duration": 3.125968,
     "end_time": "2022-04-16T10:16:03.990003",
     "exception": false,
     "start_time": "2022-04-16T10:16:00.864035",
     "status": "completed"
    },
    "tags": []
   },
   "outputs": [
    {
     "data": {
      "text/plain": [
       "True"
      ]
     },
     "execution_count": 12,
     "metadata": {},
     "output_type": "execute_result"
    }
   ],
   "source": [
    "df.isnull().any().any()"
   ]
  },
  {
   "cell_type": "code",
   "execution_count": 13,
   "id": "dc710293",
   "metadata": {
    "execution": {
     "iopub.execute_input": "2022-04-16T10:16:04.098212Z",
     "iopub.status.busy": "2022-04-16T10:16:04.097433Z",
     "iopub.status.idle": "2022-04-16T10:16:08.638870Z",
     "shell.execute_reply": "2022-04-16T10:16:08.639395Z",
     "shell.execute_reply.started": "2022-04-16T09:20:20.358413Z"
    },
    "papermill": {
     "duration": 4.596858,
     "end_time": "2022-04-16T10:16:08.639579",
     "exception": false,
     "start_time": "2022-04-16T10:16:04.042721",
     "status": "completed"
    },
    "tags": []
   },
   "outputs": [
    {
     "data": {
      "text/html": [
       "<div>\n",
       "<style scoped>\n",
       "    .dataframe tbody tr th:only-of-type {\n",
       "        vertical-align: middle;\n",
       "    }\n",
       "\n",
       "    .dataframe tbody tr th {\n",
       "        vertical-align: top;\n",
       "    }\n",
       "\n",
       "    .dataframe thead th {\n",
       "        text-align: right;\n",
       "    }\n",
       "</style>\n",
       "<table border=\"1\" class=\"dataframe\">\n",
       "  <thead>\n",
       "    <tr style=\"text-align: right;\">\n",
       "      <th></th>\n",
       "      <th>ride_id</th>\n",
       "      <th>rideable_type</th>\n",
       "      <th>started_at</th>\n",
       "      <th>ended_at</th>\n",
       "      <th>start_station_name</th>\n",
       "      <th>start_station_id</th>\n",
       "      <th>end_station_name</th>\n",
       "      <th>end_station_id</th>\n",
       "      <th>start_lat</th>\n",
       "      <th>start_lng</th>\n",
       "      <th>end_lat</th>\n",
       "      <th>end_lng</th>\n",
       "      <th>member_casual</th>\n",
       "      <th>ride_duration_min</th>\n",
       "      <th>hour</th>\n",
       "      <th>day</th>\n",
       "      <th>month</th>\n",
       "    </tr>\n",
       "  </thead>\n",
       "  <tbody>\n",
       "    <tr>\n",
       "      <th>1001</th>\n",
       "      <td>5E2BD03BCA180FBA</td>\n",
       "      <td>docked_bike</td>\n",
       "      <td>2020-04-07 11:53:08</td>\n",
       "      <td>2020-04-07 12:28:35</td>\n",
       "      <td>Wells St &amp; Concord Ln</td>\n",
       "      <td>289</td>\n",
       "      <td>NaN</td>\n",
       "      <td>NaN</td>\n",
       "      <td>41.9121</td>\n",
       "      <td>-87.6347</td>\n",
       "      <td>NaN</td>\n",
       "      <td>NaN</td>\n",
       "      <td>member</td>\n",
       "      <td>35.45</td>\n",
       "      <td>11</td>\n",
       "      <td>Tuesday</td>\n",
       "      <td>Apr</td>\n",
       "    </tr>\n",
       "    <tr>\n",
       "      <th>1864</th>\n",
       "      <td>BD5813A6101E9BF4</td>\n",
       "      <td>docked_bike</td>\n",
       "      <td>2020-04-20 12:24:48</td>\n",
       "      <td>2020-04-20 12:29:46</td>\n",
       "      <td>Racine Ave &amp; Wrightwood Ave</td>\n",
       "      <td>343</td>\n",
       "      <td>NaN</td>\n",
       "      <td>NaN</td>\n",
       "      <td>41.9289</td>\n",
       "      <td>-87.6590</td>\n",
       "      <td>NaN</td>\n",
       "      <td>NaN</td>\n",
       "      <td>member</td>\n",
       "      <td>4.97</td>\n",
       "      <td>12</td>\n",
       "      <td>Monday</td>\n",
       "      <td>Apr</td>\n",
       "    </tr>\n",
       "    <tr>\n",
       "      <th>2167</th>\n",
       "      <td>228691849C2081EE</td>\n",
       "      <td>docked_bike</td>\n",
       "      <td>2020-04-16 08:41:56</td>\n",
       "      <td>2020-04-16 11:33:48</td>\n",
       "      <td>Racine Ave &amp; 18th St</td>\n",
       "      <td>15</td>\n",
       "      <td>NaN</td>\n",
       "      <td>NaN</td>\n",
       "      <td>41.8582</td>\n",
       "      <td>-87.6565</td>\n",
       "      <td>NaN</td>\n",
       "      <td>NaN</td>\n",
       "      <td>member</td>\n",
       "      <td>171.87</td>\n",
       "      <td>8</td>\n",
       "      <td>Thursday</td>\n",
       "      <td>Apr</td>\n",
       "    </tr>\n",
       "    <tr>\n",
       "      <th>2458</th>\n",
       "      <td>ED7750BCEEE87174</td>\n",
       "      <td>docked_bike</td>\n",
       "      <td>2020-04-09 15:33:45</td>\n",
       "      <td>2020-04-09 16:34:54</td>\n",
       "      <td>Morgan Ave &amp; 14th Pl</td>\n",
       "      <td>137</td>\n",
       "      <td>NaN</td>\n",
       "      <td>NaN</td>\n",
       "      <td>41.8624</td>\n",
       "      <td>-87.6511</td>\n",
       "      <td>NaN</td>\n",
       "      <td>NaN</td>\n",
       "      <td>casual</td>\n",
       "      <td>61.15</td>\n",
       "      <td>15</td>\n",
       "      <td>Thursday</td>\n",
       "      <td>Apr</td>\n",
       "    </tr>\n",
       "    <tr>\n",
       "      <th>3834</th>\n",
       "      <td>1E00C457DCDA0835</td>\n",
       "      <td>docked_bike</td>\n",
       "      <td>2020-04-25 06:52:02</td>\n",
       "      <td>2020-04-25 07:17:54</td>\n",
       "      <td>Lake Shore Dr &amp; Wellington Ave</td>\n",
       "      <td>157</td>\n",
       "      <td>NaN</td>\n",
       "      <td>NaN</td>\n",
       "      <td>41.9367</td>\n",
       "      <td>-87.6368</td>\n",
       "      <td>NaN</td>\n",
       "      <td>NaN</td>\n",
       "      <td>member</td>\n",
       "      <td>25.87</td>\n",
       "      <td>6</td>\n",
       "      <td>Saturday</td>\n",
       "      <td>Apr</td>\n",
       "    </tr>\n",
       "    <tr>\n",
       "      <th>...</th>\n",
       "      <td>...</td>\n",
       "      <td>...</td>\n",
       "      <td>...</td>\n",
       "      <td>...</td>\n",
       "      <td>...</td>\n",
       "      <td>...</td>\n",
       "      <td>...</td>\n",
       "      <td>...</td>\n",
       "      <td>...</td>\n",
       "      <td>...</td>\n",
       "      <td>...</td>\n",
       "      <td>...</td>\n",
       "      <td>...</td>\n",
       "      <td>...</td>\n",
       "      <td>...</td>\n",
       "      <td>...</td>\n",
       "      <td>...</td>\n",
       "    </tr>\n",
       "    <tr>\n",
       "      <th>3489734</th>\n",
       "      <td>FB44BC762D3FD957</td>\n",
       "      <td>electric_bike</td>\n",
       "      <td>2021-03-29 09:05:09</td>\n",
       "      <td>2021-03-29 09:11:52</td>\n",
       "      <td>NaN</td>\n",
       "      <td>NaN</td>\n",
       "      <td>New St &amp; Illinois St</td>\n",
       "      <td>TA1306000013</td>\n",
       "      <td>41.8800</td>\n",
       "      <td>-87.6200</td>\n",
       "      <td>41.890230</td>\n",
       "      <td>-87.619377</td>\n",
       "      <td>member</td>\n",
       "      <td>6.72</td>\n",
       "      <td>9</td>\n",
       "      <td>Monday</td>\n",
       "      <td>Mar</td>\n",
       "    </tr>\n",
       "    <tr>\n",
       "      <th>3489735</th>\n",
       "      <td>CE2127F9F35C716A</td>\n",
       "      <td>electric_bike</td>\n",
       "      <td>2021-03-30 16:28:56</td>\n",
       "      <td>2021-03-30 16:41:31</td>\n",
       "      <td>NaN</td>\n",
       "      <td>NaN</td>\n",
       "      <td>New St &amp; Illinois St</td>\n",
       "      <td>TA1306000013</td>\n",
       "      <td>41.8800</td>\n",
       "      <td>-87.6500</td>\n",
       "      <td>41.890313</td>\n",
       "      <td>-87.619472</td>\n",
       "      <td>member</td>\n",
       "      <td>12.58</td>\n",
       "      <td>16</td>\n",
       "      <td>Tuesday</td>\n",
       "      <td>Mar</td>\n",
       "    </tr>\n",
       "    <tr>\n",
       "      <th>3489737</th>\n",
       "      <td>705D00962C93B2BF</td>\n",
       "      <td>electric_bike</td>\n",
       "      <td>2021-03-19 18:52:21</td>\n",
       "      <td>2021-03-19 19:00:37</td>\n",
       "      <td>NaN</td>\n",
       "      <td>NaN</td>\n",
       "      <td>Clark St &amp; Berwyn Ave</td>\n",
       "      <td>KA1504000146</td>\n",
       "      <td>41.9700</td>\n",
       "      <td>-87.6600</td>\n",
       "      <td>41.978036</td>\n",
       "      <td>-87.668121</td>\n",
       "      <td>member</td>\n",
       "      <td>8.27</td>\n",
       "      <td>18</td>\n",
       "      <td>Friday</td>\n",
       "      <td>Mar</td>\n",
       "    </tr>\n",
       "    <tr>\n",
       "      <th>3489738</th>\n",
       "      <td>566E15E846036648</td>\n",
       "      <td>electric_bike</td>\n",
       "      <td>2021-03-21 17:28:54</td>\n",
       "      <td>2021-03-21 17:36:18</td>\n",
       "      <td>NaN</td>\n",
       "      <td>NaN</td>\n",
       "      <td>Racine Ave &amp; Congress Pkwy</td>\n",
       "      <td>TA1306000025</td>\n",
       "      <td>41.8800</td>\n",
       "      <td>-87.6500</td>\n",
       "      <td>41.874721</td>\n",
       "      <td>-87.657016</td>\n",
       "      <td>member</td>\n",
       "      <td>7.40</td>\n",
       "      <td>17</td>\n",
       "      <td>Sunday</td>\n",
       "      <td>Mar</td>\n",
       "    </tr>\n",
       "    <tr>\n",
       "      <th>3489747</th>\n",
       "      <td>3AE64EA5BF43CF72</td>\n",
       "      <td>electric_bike</td>\n",
       "      <td>2021-03-26 17:58:14</td>\n",
       "      <td>2021-03-26 18:06:43</td>\n",
       "      <td>NaN</td>\n",
       "      <td>NaN</td>\n",
       "      <td>New St &amp; Illinois St</td>\n",
       "      <td>TA1306000013</td>\n",
       "      <td>41.8800</td>\n",
       "      <td>-87.6300</td>\n",
       "      <td>41.890818</td>\n",
       "      <td>-87.619540</td>\n",
       "      <td>member</td>\n",
       "      <td>8.48</td>\n",
       "      <td>17</td>\n",
       "      <td>Friday</td>\n",
       "      <td>Mar</td>\n",
       "    </tr>\n",
       "  </tbody>\n",
       "</table>\n",
       "<p>195057 rows × 17 columns</p>\n",
       "</div>"
      ],
      "text/plain": [
       "                  ride_id  rideable_type          started_at  \\\n",
       "1001     5E2BD03BCA180FBA    docked_bike 2020-04-07 11:53:08   \n",
       "1864     BD5813A6101E9BF4    docked_bike 2020-04-20 12:24:48   \n",
       "2167     228691849C2081EE    docked_bike 2020-04-16 08:41:56   \n",
       "2458     ED7750BCEEE87174    docked_bike 2020-04-09 15:33:45   \n",
       "3834     1E00C457DCDA0835    docked_bike 2020-04-25 06:52:02   \n",
       "...                   ...            ...                 ...   \n",
       "3489734  FB44BC762D3FD957  electric_bike 2021-03-29 09:05:09   \n",
       "3489735  CE2127F9F35C716A  electric_bike 2021-03-30 16:28:56   \n",
       "3489737  705D00962C93B2BF  electric_bike 2021-03-19 18:52:21   \n",
       "3489738  566E15E846036648  electric_bike 2021-03-21 17:28:54   \n",
       "3489747  3AE64EA5BF43CF72  electric_bike 2021-03-26 17:58:14   \n",
       "\n",
       "                   ended_at              start_station_name start_station_id  \\\n",
       "1001    2020-04-07 12:28:35           Wells St & Concord Ln              289   \n",
       "1864    2020-04-20 12:29:46     Racine Ave & Wrightwood Ave              343   \n",
       "2167    2020-04-16 11:33:48            Racine Ave & 18th St               15   \n",
       "2458    2020-04-09 16:34:54            Morgan Ave & 14th Pl              137   \n",
       "3834    2020-04-25 07:17:54  Lake Shore Dr & Wellington Ave              157   \n",
       "...                     ...                             ...              ...   \n",
       "3489734 2021-03-29 09:11:52                             NaN              NaN   \n",
       "3489735 2021-03-30 16:41:31                             NaN              NaN   \n",
       "3489737 2021-03-19 19:00:37                             NaN              NaN   \n",
       "3489738 2021-03-21 17:36:18                             NaN              NaN   \n",
       "3489747 2021-03-26 18:06:43                             NaN              NaN   \n",
       "\n",
       "                   end_station_name end_station_id  start_lat  start_lng  \\\n",
       "1001                            NaN            NaN    41.9121   -87.6347   \n",
       "1864                            NaN            NaN    41.9289   -87.6590   \n",
       "2167                            NaN            NaN    41.8582   -87.6565   \n",
       "2458                            NaN            NaN    41.8624   -87.6511   \n",
       "3834                            NaN            NaN    41.9367   -87.6368   \n",
       "...                             ...            ...        ...        ...   \n",
       "3489734        New St & Illinois St   TA1306000013    41.8800   -87.6200   \n",
       "3489735        New St & Illinois St   TA1306000013    41.8800   -87.6500   \n",
       "3489737       Clark St & Berwyn Ave   KA1504000146    41.9700   -87.6600   \n",
       "3489738  Racine Ave & Congress Pkwy   TA1306000025    41.8800   -87.6500   \n",
       "3489747        New St & Illinois St   TA1306000013    41.8800   -87.6300   \n",
       "\n",
       "           end_lat    end_lng member_casual  ride_duration_min  hour  \\\n",
       "1001           NaN        NaN        member              35.45    11   \n",
       "1864           NaN        NaN        member               4.97    12   \n",
       "2167           NaN        NaN        member             171.87     8   \n",
       "2458           NaN        NaN        casual              61.15    15   \n",
       "3834           NaN        NaN        member              25.87     6   \n",
       "...            ...        ...           ...                ...   ...   \n",
       "3489734  41.890230 -87.619377        member               6.72     9   \n",
       "3489735  41.890313 -87.619472        member              12.58    16   \n",
       "3489737  41.978036 -87.668121        member               8.27    18   \n",
       "3489738  41.874721 -87.657016        member               7.40    17   \n",
       "3489747  41.890818 -87.619540        member               8.48    17   \n",
       "\n",
       "              day month  \n",
       "1001      Tuesday   Apr  \n",
       "1864       Monday   Apr  \n",
       "2167     Thursday   Apr  \n",
       "2458     Thursday   Apr  \n",
       "3834     Saturday   Apr  \n",
       "...           ...   ...  \n",
       "3489734    Monday   Mar  \n",
       "3489735   Tuesday   Mar  \n",
       "3489737    Friday   Mar  \n",
       "3489738    Sunday   Mar  \n",
       "3489747    Friday   Mar  \n",
       "\n",
       "[195057 rows x 17 columns]"
      ]
     },
     "execution_count": 13,
     "metadata": {},
     "output_type": "execute_result"
    }
   ],
   "source": [
    "df[df.isnull().any(axis= 1)]\n",
    "# 195057 rows with na"
   ]
  },
  {
   "cell_type": "code",
   "execution_count": 14,
   "id": "20d5d37c",
   "metadata": {
    "execution": {
     "iopub.execute_input": "2022-04-16T10:16:08.743262Z",
     "iopub.status.busy": "2022-04-16T10:16:08.742295Z",
     "iopub.status.idle": "2022-04-16T10:16:12.460905Z",
     "shell.execute_reply": "2022-04-16T10:16:12.460340Z",
     "shell.execute_reply.started": "2022-04-16T09:20:24.808834Z"
    },
    "papermill": {
     "duration": 3.771873,
     "end_time": "2022-04-16T10:16:12.461080",
     "exception": false,
     "start_time": "2022-04-16T10:16:08.689207",
     "status": "completed"
    },
    "tags": []
   },
   "outputs": [],
   "source": [
    "df.dropna(inplace = True)\n",
    "df.reset_index(inplace = True, drop = True)"
   ]
  },
  {
   "cell_type": "markdown",
   "id": "74b575a5",
   "metadata": {
    "papermill": {
     "duration": 0.050267,
     "end_time": "2022-04-16T10:16:12.564205",
     "exception": false,
     "start_time": "2022-04-16T10:16:12.513938",
     "status": "completed"
    },
    "tags": []
   },
   "source": [
    "### Removing negative ride durations"
   ]
  },
  {
   "cell_type": "code",
   "execution_count": 15,
   "id": "44c77379",
   "metadata": {
    "execution": {
     "iopub.execute_input": "2022-04-16T10:16:12.671349Z",
     "iopub.status.busy": "2022-04-16T10:16:12.670321Z",
     "iopub.status.idle": "2022-04-16T10:16:21.172817Z",
     "shell.execute_reply": "2022-04-16T10:16:21.172248Z",
     "shell.execute_reply.started": "2022-04-16T09:20:28.543339Z"
    },
    "papermill": {
     "duration": 8.55889,
     "end_time": "2022-04-16T10:16:21.172998",
     "exception": false,
     "start_time": "2022-04-16T10:16:12.614108",
     "status": "completed"
    },
    "tags": []
   },
   "outputs": [
    {
     "data": {
      "text/plain": [
       "[Text(0.5, 1.0, 'Boxplot of ride duration(min)')]"
      ]
     },
     "execution_count": 15,
     "metadata": {},
     "output_type": "execute_result"
    },
    {
     "data": {
      "image/png": "[encoded data removed]",
      "text/plain": [
       "<Figure size 720x504 with 1 Axes>"
      ]
     },
     "metadata": {},
     "output_type": "display_data"
    }
   ],
   "source": [
    "fig, ax = plt.subplots(figsize = (10,7))\n",
    "\n",
    "pd.DataFrame(df[\"ride_duration_min\"]).boxplot(fontsize = 12, color = \"blue\")\n",
    "\n",
    "ax.set(title = \"Boxplot of ride duration(min)\")"
   ]
  },
  {
   "cell_type": "code",
   "execution_count": 16,
   "id": "7de8a36d",
   "metadata": {
    "execution": {
     "iopub.execute_input": "2022-04-16T10:16:21.284422Z",
     "iopub.status.busy": "2022-04-16T10:16:21.281129Z",
     "iopub.status.idle": "2022-04-16T10:16:21.318333Z",
     "shell.execute_reply": "2022-04-16T10:16:21.318835Z",
     "shell.execute_reply.started": "2022-04-16T09:20:37.103959Z"
    },
    "papermill": {
     "duration": 0.093832,
     "end_time": "2022-04-16T10:16:21.319024",
     "exception": false,
     "start_time": "2022-04-16T10:16:21.225192",
     "status": "completed"
    },
    "tags": []
   },
   "outputs": [
    {
     "data": {
      "text/plain": [
       "Int64Index([   2419,    2500,    3132,    3538,    8203,    8554,   10604,\n",
       "              18799,   19011,   19777,\n",
       "            ...\n",
       "            2959783, 2960067, 2960566, 2960677, 2961058, 2961299, 2961852,\n",
       "            2962289, 3128311, 3202041],\n",
       "           dtype='int64', length=10454)"
      ]
     },
     "execution_count": 16,
     "metadata": {},
     "output_type": "execute_result"
    }
   ],
   "source": [
    "df[df[\"ride_duration_min\"]<0].index"
   ]
  },
  {
   "cell_type": "code",
   "execution_count": 17,
   "id": "c4f513d9",
   "metadata": {
    "execution": {
     "iopub.execute_input": "2022-04-16T10:16:21.427255Z",
     "iopub.status.busy": "2022-04-16T10:16:21.426439Z",
     "iopub.status.idle": "2022-04-16T10:16:22.151441Z",
     "shell.execute_reply": "2022-04-16T10:16:22.150833Z",
     "shell.execute_reply.started": "2022-04-16T09:20:37.143532Z"
    },
    "papermill": {
     "duration": 0.780322,
     "end_time": "2022-04-16T10:16:22.151586",
     "exception": false,
     "start_time": "2022-04-16T10:16:21.371264",
     "status": "completed"
    },
    "tags": []
   },
   "outputs": [
    {
     "data": {
      "text/html": [
       "<div>\n",
       "<style scoped>\n",
       "    .dataframe tbody tr th:only-of-type {\n",
       "        vertical-align: middle;\n",
       "    }\n",
       "\n",
       "    .dataframe tbody tr th {\n",
       "        vertical-align: top;\n",
       "    }\n",
       "\n",
       "    .dataframe thead th {\n",
       "        text-align: right;\n",
       "    }\n",
       "</style>\n",
       "<table border=\"1\" class=\"dataframe\">\n",
       "  <thead>\n",
       "    <tr style=\"text-align: right;\">\n",
       "      <th></th>\n",
       "      <th>ride_id</th>\n",
       "      <th>rideable_type</th>\n",
       "      <th>started_at</th>\n",
       "      <th>ended_at</th>\n",
       "      <th>start_station_name</th>\n",
       "      <th>start_station_id</th>\n",
       "      <th>end_station_name</th>\n",
       "      <th>end_station_id</th>\n",
       "      <th>start_lat</th>\n",
       "      <th>start_lng</th>\n",
       "      <th>end_lat</th>\n",
       "      <th>end_lng</th>\n",
       "      <th>member_casual</th>\n",
       "      <th>ride_duration_min</th>\n",
       "      <th>hour</th>\n",
       "      <th>day</th>\n",
       "      <th>month</th>\n",
       "    </tr>\n",
       "  </thead>\n",
       "  <tbody>\n",
       "    <tr>\n",
       "      <th>0</th>\n",
       "      <td>A847FADBBC638E45</td>\n",
       "      <td>docked_bike</td>\n",
       "      <td>2020-04-26 17:45:14</td>\n",
       "      <td>2020-04-26 18:12:03</td>\n",
       "      <td>Eckhart Park</td>\n",
       "      <td>86</td>\n",
       "      <td>Lincoln Ave &amp; Diversey Pkwy</td>\n",
       "      <td>152.0</td>\n",
       "      <td>41.896400</td>\n",
       "      <td>-87.661000</td>\n",
       "      <td>41.932200</td>\n",
       "      <td>-87.658600</td>\n",
       "      <td>member</td>\n",
       "      <td>26.82</td>\n",
       "      <td>17</td>\n",
       "      <td>Sunday</td>\n",
       "      <td>Apr</td>\n",
       "    </tr>\n",
       "    <tr>\n",
       "      <th>1</th>\n",
       "      <td>5405B80E996FF60D</td>\n",
       "      <td>docked_bike</td>\n",
       "      <td>2020-04-17 17:08:54</td>\n",
       "      <td>2020-04-17 17:17:03</td>\n",
       "      <td>Drake Ave &amp; Fullerton Ave</td>\n",
       "      <td>503</td>\n",
       "      <td>Kosciuszko Park</td>\n",
       "      <td>499.0</td>\n",
       "      <td>41.924400</td>\n",
       "      <td>-87.715400</td>\n",
       "      <td>41.930600</td>\n",
       "      <td>-87.723800</td>\n",
       "      <td>member</td>\n",
       "      <td>8.15</td>\n",
       "      <td>17</td>\n",
       "      <td>Friday</td>\n",
       "      <td>Apr</td>\n",
       "    </tr>\n",
       "    <tr>\n",
       "      <th>2</th>\n",
       "      <td>5DD24A79A4E006F4</td>\n",
       "      <td>docked_bike</td>\n",
       "      <td>2020-04-01 17:54:13</td>\n",
       "      <td>2020-04-01 18:08:36</td>\n",
       "      <td>McClurg Ct &amp; Erie St</td>\n",
       "      <td>142</td>\n",
       "      <td>Indiana Ave &amp; Roosevelt Rd</td>\n",
       "      <td>255.0</td>\n",
       "      <td>41.894500</td>\n",
       "      <td>-87.617900</td>\n",
       "      <td>41.867900</td>\n",
       "      <td>-87.623000</td>\n",
       "      <td>member</td>\n",
       "      <td>14.38</td>\n",
       "      <td>17</td>\n",
       "      <td>Wednesday</td>\n",
       "      <td>Apr</td>\n",
       "    </tr>\n",
       "    <tr>\n",
       "      <th>3</th>\n",
       "      <td>2A59BBDF5CDBA725</td>\n",
       "      <td>docked_bike</td>\n",
       "      <td>2020-04-07 12:50:19</td>\n",
       "      <td>2020-04-07 13:02:31</td>\n",
       "      <td>California Ave &amp; Division St</td>\n",
       "      <td>216</td>\n",
       "      <td>Wood St &amp; Augusta Blvd</td>\n",
       "      <td>657.0</td>\n",
       "      <td>41.903000</td>\n",
       "      <td>-87.697500</td>\n",
       "      <td>41.899200</td>\n",
       "      <td>-87.672200</td>\n",
       "      <td>member</td>\n",
       "      <td>12.20</td>\n",
       "      <td>12</td>\n",
       "      <td>Tuesday</td>\n",
       "      <td>Apr</td>\n",
       "    </tr>\n",
       "    <tr>\n",
       "      <th>4</th>\n",
       "      <td>27AD306C119C6158</td>\n",
       "      <td>docked_bike</td>\n",
       "      <td>2020-04-18 10:22:59</td>\n",
       "      <td>2020-04-18 11:15:54</td>\n",
       "      <td>Rush St &amp; Hubbard St</td>\n",
       "      <td>125</td>\n",
       "      <td>Sheridan Rd &amp; Lawrence Ave</td>\n",
       "      <td>323.0</td>\n",
       "      <td>41.890200</td>\n",
       "      <td>-87.626200</td>\n",
       "      <td>41.969500</td>\n",
       "      <td>-87.654700</td>\n",
       "      <td>casual</td>\n",
       "      <td>52.92</td>\n",
       "      <td>10</td>\n",
       "      <td>Saturday</td>\n",
       "      <td>Apr</td>\n",
       "    </tr>\n",
       "    <tr>\n",
       "      <th>...</th>\n",
       "      <td>...</td>\n",
       "      <td>...</td>\n",
       "      <td>...</td>\n",
       "      <td>...</td>\n",
       "      <td>...</td>\n",
       "      <td>...</td>\n",
       "      <td>...</td>\n",
       "      <td>...</td>\n",
       "      <td>...</td>\n",
       "      <td>...</td>\n",
       "      <td>...</td>\n",
       "      <td>...</td>\n",
       "      <td>...</td>\n",
       "      <td>...</td>\n",
       "      <td>...</td>\n",
       "      <td>...</td>\n",
       "      <td>...</td>\n",
       "    </tr>\n",
       "    <tr>\n",
       "      <th>3284232</th>\n",
       "      <td>081549DEA616CA22</td>\n",
       "      <td>electric_bike</td>\n",
       "      <td>2021-03-14 01:59:38</td>\n",
       "      <td>2021-03-14 03:13:09</td>\n",
       "      <td>Larrabee St &amp; Armitage Ave</td>\n",
       "      <td>TA1309000006</td>\n",
       "      <td>New St &amp; Illinois St</td>\n",
       "      <td>TA1306000013</td>\n",
       "      <td>41.918129</td>\n",
       "      <td>-87.643749</td>\n",
       "      <td>41.890808</td>\n",
       "      <td>-87.618779</td>\n",
       "      <td>member</td>\n",
       "      <td>73.52</td>\n",
       "      <td>1</td>\n",
       "      <td>Sunday</td>\n",
       "      <td>Mar</td>\n",
       "    </tr>\n",
       "    <tr>\n",
       "      <th>3284233</th>\n",
       "      <td>9397BDD14798A1BA</td>\n",
       "      <td>docked_bike</td>\n",
       "      <td>2021-03-20 14:58:56</td>\n",
       "      <td>2021-03-20 17:22:47</td>\n",
       "      <td>Michigan Ave &amp; Oak St</td>\n",
       "      <td>13042</td>\n",
       "      <td>New St &amp; Illinois St</td>\n",
       "      <td>TA1306000013</td>\n",
       "      <td>41.900960</td>\n",
       "      <td>-87.623777</td>\n",
       "      <td>41.890847</td>\n",
       "      <td>-87.618617</td>\n",
       "      <td>casual</td>\n",
       "      <td>143.85</td>\n",
       "      <td>14</td>\n",
       "      <td>Saturday</td>\n",
       "      <td>Mar</td>\n",
       "    </tr>\n",
       "    <tr>\n",
       "      <th>3284234</th>\n",
       "      <td>BBBEB8D51AAD40DA</td>\n",
       "      <td>classic_bike</td>\n",
       "      <td>2021-03-02 11:35:10</td>\n",
       "      <td>2021-03-02 11:43:37</td>\n",
       "      <td>Kingsbury St &amp; Kinzie St</td>\n",
       "      <td>KA1503000043</td>\n",
       "      <td>New St &amp; Illinois St</td>\n",
       "      <td>TA1306000013</td>\n",
       "      <td>41.889177</td>\n",
       "      <td>-87.638506</td>\n",
       "      <td>41.890847</td>\n",
       "      <td>-87.618617</td>\n",
       "      <td>member</td>\n",
       "      <td>8.45</td>\n",
       "      <td>11</td>\n",
       "      <td>Tuesday</td>\n",
       "      <td>Mar</td>\n",
       "    </tr>\n",
       "    <tr>\n",
       "      <th>3284235</th>\n",
       "      <td>637FF754DA0BD9E1</td>\n",
       "      <td>classic_bike</td>\n",
       "      <td>2021-03-09 11:07:36</td>\n",
       "      <td>2021-03-09 11:49:11</td>\n",
       "      <td>Michigan Ave &amp; Oak St</td>\n",
       "      <td>13042</td>\n",
       "      <td>Clark St &amp; Berwyn Ave</td>\n",
       "      <td>KA1504000146</td>\n",
       "      <td>41.900960</td>\n",
       "      <td>-87.623777</td>\n",
       "      <td>41.977997</td>\n",
       "      <td>-87.668047</td>\n",
       "      <td>member</td>\n",
       "      <td>41.58</td>\n",
       "      <td>11</td>\n",
       "      <td>Tuesday</td>\n",
       "      <td>Mar</td>\n",
       "    </tr>\n",
       "    <tr>\n",
       "      <th>3284236</th>\n",
       "      <td>F8F43A0B978A7A35</td>\n",
       "      <td>classic_bike</td>\n",
       "      <td>2021-03-01 18:11:57</td>\n",
       "      <td>2021-03-01 18:18:37</td>\n",
       "      <td>Kingsbury St &amp; Kinzie St</td>\n",
       "      <td>KA1503000043</td>\n",
       "      <td>New St &amp; Illinois St</td>\n",
       "      <td>TA1306000013</td>\n",
       "      <td>41.889177</td>\n",
       "      <td>-87.638506</td>\n",
       "      <td>41.890847</td>\n",
       "      <td>-87.618617</td>\n",
       "      <td>member</td>\n",
       "      <td>6.67</td>\n",
       "      <td>18</td>\n",
       "      <td>Monday</td>\n",
       "      <td>Mar</td>\n",
       "    </tr>\n",
       "  </tbody>\n",
       "</table>\n",
       "<p>3284237 rows × 17 columns</p>\n",
       "</div>"
      ],
      "text/plain": [
       "                  ride_id  rideable_type          started_at  \\\n",
       "0        A847FADBBC638E45    docked_bike 2020-04-26 17:45:14   \n",
       "1        5405B80E996FF60D    docked_bike 2020-04-17 17:08:54   \n",
       "2        5DD24A79A4E006F4    docked_bike 2020-04-01 17:54:13   \n",
       "3        2A59BBDF5CDBA725    docked_bike 2020-04-07 12:50:19   \n",
       "4        27AD306C119C6158    docked_bike 2020-04-18 10:22:59   \n",
       "...                   ...            ...                 ...   \n",
       "3284232  081549DEA616CA22  electric_bike 2021-03-14 01:59:38   \n",
       "3284233  9397BDD14798A1BA    docked_bike 2021-03-20 14:58:56   \n",
       "3284234  BBBEB8D51AAD40DA   classic_bike 2021-03-02 11:35:10   \n",
       "3284235  637FF754DA0BD9E1   classic_bike 2021-03-09 11:07:36   \n",
       "3284236  F8F43A0B978A7A35   classic_bike 2021-03-01 18:11:57   \n",
       "\n",
       "                   ended_at            start_station_name start_station_id  \\\n",
       "0       2020-04-26 18:12:03                  Eckhart Park               86   \n",
       "1       2020-04-17 17:17:03     Drake Ave & Fullerton Ave              503   \n",
       "2       2020-04-01 18:08:36          McClurg Ct & Erie St              142   \n",
       "3       2020-04-07 13:02:31  California Ave & Division St              216   \n",
       "4       2020-04-18 11:15:54          Rush St & Hubbard St              125   \n",
       "...                     ...                           ...              ...   \n",
       "3284232 2021-03-14 03:13:09    Larrabee St & Armitage Ave     TA1309000006   \n",
       "3284233 2021-03-20 17:22:47         Michigan Ave & Oak St            13042   \n",
       "3284234 2021-03-02 11:43:37      Kingsbury St & Kinzie St     KA1503000043   \n",
       "3284235 2021-03-09 11:49:11         Michigan Ave & Oak St            13042   \n",
       "3284236 2021-03-01 18:18:37      Kingsbury St & Kinzie St     KA1503000043   \n",
       "\n",
       "                    end_station_name end_station_id  start_lat  start_lng  \\\n",
       "0        Lincoln Ave & Diversey Pkwy          152.0  41.896400 -87.661000   \n",
       "1                    Kosciuszko Park          499.0  41.924400 -87.715400   \n",
       "2         Indiana Ave & Roosevelt Rd          255.0  41.894500 -87.617900   \n",
       "3             Wood St & Augusta Blvd          657.0  41.903000 -87.697500   \n",
       "4         Sheridan Rd & Lawrence Ave          323.0  41.890200 -87.626200   \n",
       "...                              ...            ...        ...        ...   \n",
       "3284232         New St & Illinois St   TA1306000013  41.918129 -87.643749   \n",
       "3284233         New St & Illinois St   TA1306000013  41.900960 -87.623777   \n",
       "3284234         New St & Illinois St   TA1306000013  41.889177 -87.638506   \n",
       "3284235        Clark St & Berwyn Ave   KA1504000146  41.900960 -87.623777   \n",
       "3284236         New St & Illinois St   TA1306000013  41.889177 -87.638506   \n",
       "\n",
       "           end_lat    end_lng member_casual  ride_duration_min  hour  \\\n",
       "0        41.932200 -87.658600        member              26.82    17   \n",
       "1        41.930600 -87.723800        member               8.15    17   \n",
       "2        41.867900 -87.623000        member              14.38    17   \n",
       "3        41.899200 -87.672200        member              12.20    12   \n",
       "4        41.969500 -87.654700        casual              52.92    10   \n",
       "...            ...        ...           ...                ...   ...   \n",
       "3284232  41.890808 -87.618779        member              73.52     1   \n",
       "3284233  41.890847 -87.618617        casual             143.85    14   \n",
       "3284234  41.890847 -87.618617        member               8.45    11   \n",
       "3284235  41.977997 -87.668047        member              41.58    11   \n",
       "3284236  41.890847 -87.618617        member               6.67    18   \n",
       "\n",
       "               day month  \n",
       "0           Sunday   Apr  \n",
       "1           Friday   Apr  \n",
       "2        Wednesday   Apr  \n",
       "3          Tuesday   Apr  \n",
       "4         Saturday   Apr  \n",
       "...            ...   ...  \n",
       "3284232     Sunday   Mar  \n",
       "3284233   Saturday   Mar  \n",
       "3284234    Tuesday   Mar  \n",
       "3284235    Tuesday   Mar  \n",
       "3284236     Monday   Mar  \n",
       "\n",
       "[3284237 rows x 17 columns]"
      ]
     },
     "execution_count": 17,
     "metadata": {},
     "output_type": "execute_result"
    }
   ],
   "source": [
    "df.drop(df[df[\"ride_duration_min\"]<0].index, axis = 'index', inplace = True)\n",
    "df.reset_index(inplace = True, drop = True)\n",
    "df"
   ]
  },
  {
   "cell_type": "markdown",
   "id": "3ef4d20b",
   "metadata": {
    "papermill": {
     "duration": 0.053131,
     "end_time": "2022-04-16T10:16:22.257495",
     "exception": false,
     "start_time": "2022-04-16T10:16:22.204364",
     "status": "completed"
    },
    "tags": []
   },
   "source": [
    "### Removing positive outliers"
   ]
  },
  {
   "cell_type": "code",
   "execution_count": 18,
   "id": "05b3a954",
   "metadata": {
    "execution": {
     "iopub.execute_input": "2022-04-16T10:16:22.371359Z",
     "iopub.status.busy": "2022-04-16T10:16:22.370656Z",
     "iopub.status.idle": "2022-04-16T10:16:23.102369Z",
     "shell.execute_reply": "2022-04-16T10:16:23.101730Z",
     "shell.execute_reply.started": "2022-04-16T09:20:37.863270Z"
    },
    "papermill": {
     "duration": 0.791094,
     "end_time": "2022-04-16T10:16:23.102512",
     "exception": false,
     "start_time": "2022-04-16T10:16:22.311418",
     "status": "completed"
    },
    "tags": []
   },
   "outputs": [],
   "source": [
    "scaler = StandardScaler()\n",
    "scaler = scaler.fit(pd.DataFrame(df[\"ride_duration_min\"]))\n",
    "nor = scaler.transform(pd.DataFrame(df[\"ride_duration_min\"]))\n",
    "df1 = pd.DataFrame(nor)\n",
    "df1.rename(columns={0:\"std_duration\"}, inplace=True)\n",
    "df = pd.concat(objs=[df1, df], axis = 1)"
   ]
  },
  {
   "cell_type": "code",
   "execution_count": 19,
   "id": "fba0ef3f",
   "metadata": {
    "execution": {
     "iopub.execute_input": "2022-04-16T10:16:23.215011Z",
     "iopub.status.busy": "2022-04-16T10:16:23.214320Z",
     "iopub.status.idle": "2022-04-16T10:16:23.224540Z",
     "shell.execute_reply": "2022-04-16T10:16:23.223873Z",
     "shell.execute_reply.started": "2022-04-16T09:20:38.632738Z"
    },
    "papermill": {
     "duration": 0.069226,
     "end_time": "2022-04-16T10:16:23.224694",
     "exception": false,
     "start_time": "2022-04-16T10:16:23.155468",
     "status": "completed"
    },
    "tags": []
   },
   "outputs": [
    {
     "data": {
      "text/plain": [
       "-0.108284404733629"
      ]
     },
     "execution_count": 19,
     "metadata": {},
     "output_type": "execute_result"
    }
   ],
   "source": [
    "df[\"std_duration\"].min()"
   ]
  },
  {
   "cell_type": "code",
   "execution_count": 20,
   "id": "fa771540",
   "metadata": {
    "execution": {
     "iopub.execute_input": "2022-04-16T10:16:23.337647Z",
     "iopub.status.busy": "2022-04-16T10:16:23.337021Z",
     "iopub.status.idle": "2022-04-16T10:16:23.347717Z",
     "shell.execute_reply": "2022-04-16T10:16:23.348284Z",
     "shell.execute_reply.started": "2022-04-16T09:20:38.645651Z"
    },
    "papermill": {
     "duration": 0.068769,
     "end_time": "2022-04-16T10:16:23.348457",
     "exception": false,
     "start_time": "2022-04-16T10:16:23.279688",
     "status": "completed"
    },
    "tags": []
   },
   "outputs": [
    {
     "data": {
      "text/plain": [
       "226.57994247849612"
      ]
     },
     "execution_count": 20,
     "metadata": {},
     "output_type": "execute_result"
    }
   ],
   "source": [
    "df[\"std_duration\"].max()"
   ]
  },
  {
   "cell_type": "code",
   "execution_count": 21,
   "id": "08e49ee8",
   "metadata": {
    "execution": {
     "iopub.execute_input": "2022-04-16T10:16:23.459113Z",
     "iopub.status.busy": "2022-04-16T10:16:23.458446Z",
     "iopub.status.idle": "2022-04-16T10:16:24.771305Z",
     "shell.execute_reply": "2022-04-16T10:16:24.771790Z",
     "shell.execute_reply.started": "2022-04-16T09:20:38.658133Z"
    },
    "papermill": {
     "duration": 1.36998,
     "end_time": "2022-04-16T10:16:24.772009",
     "exception": false,
     "start_time": "2022-04-16T10:16:23.402029",
     "status": "completed"
    },
    "tags": []
   },
   "outputs": [
    {
     "data": {
      "text/plain": [
       "Int64Index([     80,     214,     455,     745,    1490,    1516,    2066,\n",
       "               2149,    2387,    2438,\n",
       "            ...\n",
       "            3277990, 3278655, 3279158, 3279192, 3280713, 3280717, 3281698,\n",
       "            3281834, 3282021, 3283438],\n",
       "           dtype='int64', length=4868)"
      ]
     },
     "execution_count": 21,
     "metadata": {},
     "output_type": "execute_result"
    }
   ],
   "source": [
    "df[df[\"std_duration\"]>3].index"
   ]
  },
  {
   "cell_type": "code",
   "execution_count": 22,
   "id": "c5b8807a",
   "metadata": {
    "execution": {
     "iopub.execute_input": "2022-04-16T10:16:24.883498Z",
     "iopub.status.busy": "2022-04-16T10:16:24.882845Z",
     "iopub.status.idle": "2022-04-16T10:16:25.596147Z",
     "shell.execute_reply": "2022-04-16T10:16:25.595455Z",
     "shell.execute_reply.started": "2022-04-16T09:20:39.982419Z"
    },
    "papermill": {
     "duration": 0.769823,
     "end_time": "2022-04-16T10:16:25.596287",
     "exception": false,
     "start_time": "2022-04-16T10:16:24.826464",
     "status": "completed"
    },
    "tags": []
   },
   "outputs": [
    {
     "data": {
      "text/html": [
       "<div>\n",
       "<style scoped>\n",
       "    .dataframe tbody tr th:only-of-type {\n",
       "        vertical-align: middle;\n",
       "    }\n",
       "\n",
       "    .dataframe tbody tr th {\n",
       "        vertical-align: top;\n",
       "    }\n",
       "\n",
       "    .dataframe thead th {\n",
       "        text-align: right;\n",
       "    }\n",
       "</style>\n",
       "<table border=\"1\" class=\"dataframe\">\n",
       "  <thead>\n",
       "    <tr style=\"text-align: right;\">\n",
       "      <th></th>\n",
       "      <th>std_duration</th>\n",
       "      <th>ride_id</th>\n",
       "      <th>rideable_type</th>\n",
       "      <th>started_at</th>\n",
       "      <th>ended_at</th>\n",
       "      <th>start_station_name</th>\n",
       "      <th>start_station_id</th>\n",
       "      <th>end_station_name</th>\n",
       "      <th>end_station_id</th>\n",
       "      <th>start_lat</th>\n",
       "      <th>start_lng</th>\n",
       "      <th>end_lat</th>\n",
       "      <th>end_lng</th>\n",
       "      <th>member_casual</th>\n",
       "      <th>ride_duration_min</th>\n",
       "      <th>hour</th>\n",
       "      <th>day</th>\n",
       "      <th>month</th>\n",
       "    </tr>\n",
       "  </thead>\n",
       "  <tbody>\n",
       "    <tr>\n",
       "      <th>0</th>\n",
       "      <td>-0.004746</td>\n",
       "      <td>A847FADBBC638E45</td>\n",
       "      <td>docked_bike</td>\n",
       "      <td>2020-04-26 17:45:14</td>\n",
       "      <td>2020-04-26 18:12:03</td>\n",
       "      <td>Eckhart Park</td>\n",
       "      <td>86</td>\n",
       "      <td>Lincoln Ave &amp; Diversey Pkwy</td>\n",
       "      <td>152.0</td>\n",
       "      <td>41.8964</td>\n",
       "      <td>-87.6610</td>\n",
       "      <td>41.9322</td>\n",
       "      <td>-87.6586</td>\n",
       "      <td>member</td>\n",
       "      <td>26.82</td>\n",
       "      <td>17</td>\n",
       "      <td>Sunday</td>\n",
       "      <td>Apr</td>\n",
       "    </tr>\n",
       "    <tr>\n",
       "      <th>1</th>\n",
       "      <td>-0.076821</td>\n",
       "      <td>5405B80E996FF60D</td>\n",
       "      <td>docked_bike</td>\n",
       "      <td>2020-04-17 17:08:54</td>\n",
       "      <td>2020-04-17 17:17:03</td>\n",
       "      <td>Drake Ave &amp; Fullerton Ave</td>\n",
       "      <td>503</td>\n",
       "      <td>Kosciuszko Park</td>\n",
       "      <td>499.0</td>\n",
       "      <td>41.9244</td>\n",
       "      <td>-87.7154</td>\n",
       "      <td>41.9306</td>\n",
       "      <td>-87.7238</td>\n",
       "      <td>member</td>\n",
       "      <td>8.15</td>\n",
       "      <td>17</td>\n",
       "      <td>Friday</td>\n",
       "      <td>Apr</td>\n",
       "    </tr>\n",
       "    <tr>\n",
       "      <th>2</th>\n",
       "      <td>-0.052771</td>\n",
       "      <td>5DD24A79A4E006F4</td>\n",
       "      <td>docked_bike</td>\n",
       "      <td>2020-04-01 17:54:13</td>\n",
       "      <td>2020-04-01 18:08:36</td>\n",
       "      <td>McClurg Ct &amp; Erie St</td>\n",
       "      <td>142</td>\n",
       "      <td>Indiana Ave &amp; Roosevelt Rd</td>\n",
       "      <td>255.0</td>\n",
       "      <td>41.8945</td>\n",
       "      <td>-87.6179</td>\n",
       "      <td>41.8679</td>\n",
       "      <td>-87.6230</td>\n",
       "      <td>member</td>\n",
       "      <td>14.38</td>\n",
       "      <td>17</td>\n",
       "      <td>Wednesday</td>\n",
       "      <td>Apr</td>\n",
       "    </tr>\n",
       "    <tr>\n",
       "      <th>3</th>\n",
       "      <td>-0.061186</td>\n",
       "      <td>2A59BBDF5CDBA725</td>\n",
       "      <td>docked_bike</td>\n",
       "      <td>2020-04-07 12:50:19</td>\n",
       "      <td>2020-04-07 13:02:31</td>\n",
       "      <td>California Ave &amp; Division St</td>\n",
       "      <td>216</td>\n",
       "      <td>Wood St &amp; Augusta Blvd</td>\n",
       "      <td>657.0</td>\n",
       "      <td>41.9030</td>\n",
       "      <td>-87.6975</td>\n",
       "      <td>41.8992</td>\n",
       "      <td>-87.6722</td>\n",
       "      <td>member</td>\n",
       "      <td>12.20</td>\n",
       "      <td>12</td>\n",
       "      <td>Tuesday</td>\n",
       "      <td>Apr</td>\n",
       "    </tr>\n",
       "    <tr>\n",
       "      <th>4</th>\n",
       "      <td>0.096013</td>\n",
       "      <td>27AD306C119C6158</td>\n",
       "      <td>docked_bike</td>\n",
       "      <td>2020-04-18 10:22:59</td>\n",
       "      <td>2020-04-18 11:15:54</td>\n",
       "      <td>Rush St &amp; Hubbard St</td>\n",
       "      <td>125</td>\n",
       "      <td>Sheridan Rd &amp; Lawrence Ave</td>\n",
       "      <td>323.0</td>\n",
       "      <td>41.8902</td>\n",
       "      <td>-87.6262</td>\n",
       "      <td>41.9695</td>\n",
       "      <td>-87.6547</td>\n",
       "      <td>casual</td>\n",
       "      <td>52.92</td>\n",
       "      <td>10</td>\n",
       "      <td>Saturday</td>\n",
       "      <td>Apr</td>\n",
       "    </tr>\n",
       "  </tbody>\n",
       "</table>\n",
       "</div>"
      ],
      "text/plain": [
       "   std_duration           ride_id rideable_type          started_at  \\\n",
       "0     -0.004746  A847FADBBC638E45   docked_bike 2020-04-26 17:45:14   \n",
       "1     -0.076821  5405B80E996FF60D   docked_bike 2020-04-17 17:08:54   \n",
       "2     -0.052771  5DD24A79A4E006F4   docked_bike 2020-04-01 17:54:13   \n",
       "3     -0.061186  2A59BBDF5CDBA725   docked_bike 2020-04-07 12:50:19   \n",
       "4      0.096013  27AD306C119C6158   docked_bike 2020-04-18 10:22:59   \n",
       "\n",
       "             ended_at            start_station_name start_station_id  \\\n",
       "0 2020-04-26 18:12:03                  Eckhart Park               86   \n",
       "1 2020-04-17 17:17:03     Drake Ave & Fullerton Ave              503   \n",
       "2 2020-04-01 18:08:36          McClurg Ct & Erie St              142   \n",
       "3 2020-04-07 13:02:31  California Ave & Division St              216   \n",
       "4 2020-04-18 11:15:54          Rush St & Hubbard St              125   \n",
       "\n",
       "              end_station_name end_station_id  start_lat  start_lng  end_lat  \\\n",
       "0  Lincoln Ave & Diversey Pkwy          152.0    41.8964   -87.6610  41.9322   \n",
       "1              Kosciuszko Park          499.0    41.9244   -87.7154  41.9306   \n",
       "2   Indiana Ave & Roosevelt Rd          255.0    41.8945   -87.6179  41.8679   \n",
       "3       Wood St & Augusta Blvd          657.0    41.9030   -87.6975  41.8992   \n",
       "4   Sheridan Rd & Lawrence Ave          323.0    41.8902   -87.6262  41.9695   \n",
       "\n",
       "   end_lng member_casual  ride_duration_min  hour        day month  \n",
       "0 -87.6586        member              26.82    17     Sunday   Apr  \n",
       "1 -87.7238        member               8.15    17     Friday   Apr  \n",
       "2 -87.6230        member              14.38    17  Wednesday   Apr  \n",
       "3 -87.6722        member              12.20    12    Tuesday   Apr  \n",
       "4 -87.6547        casual              52.92    10   Saturday   Apr  "
      ]
     },
     "execution_count": 22,
     "metadata": {},
     "output_type": "execute_result"
    }
   ],
   "source": [
    "df.drop(df[df[\"std_duration\"]>3].index, axis = \"index\", inplace = True)\n",
    "df.reset_index(inplace=True, drop = True)\n",
    "df.head()"
   ]
  },
  {
   "cell_type": "code",
   "execution_count": 23,
   "id": "7403b276",
   "metadata": {
    "execution": {
     "iopub.execute_input": "2022-04-16T10:16:25.710972Z",
     "iopub.status.busy": "2022-04-16T10:16:25.710258Z",
     "iopub.status.idle": "2022-04-16T10:16:25.721094Z",
     "shell.execute_reply": "2022-04-16T10:16:25.721669Z",
     "shell.execute_reply.started": "2022-04-16T09:20:40.682333Z"
    },
    "papermill": {
     "duration": 0.069908,
     "end_time": "2022-04-16T10:16:25.721849",
     "exception": false,
     "start_time": "2022-04-16T10:16:25.651941",
     "status": "completed"
    },
    "tags": []
   },
   "outputs": [
    {
     "data": {
      "text/plain": [
       "-0.108284404733629"
      ]
     },
     "execution_count": 23,
     "metadata": {},
     "output_type": "execute_result"
    }
   ],
   "source": [
    "df[\"std_duration\"].min()"
   ]
  },
  {
   "cell_type": "code",
   "execution_count": 24,
   "id": "1f5b2495",
   "metadata": {
    "execution": {
     "iopub.execute_input": "2022-04-16T10:16:25.835262Z",
     "iopub.status.busy": "2022-04-16T10:16:25.834450Z",
     "iopub.status.idle": "2022-04-16T10:16:25.846325Z",
     "shell.execute_reply": "2022-04-16T10:16:25.845676Z",
     "shell.execute_reply.started": "2022-04-16T09:20:40.693791Z"
    },
    "papermill": {
     "duration": 0.069276,
     "end_time": "2022-04-16T10:16:25.846469",
     "exception": false,
     "start_time": "2022-04-16T10:16:25.777193",
     "status": "completed"
    },
    "tags": []
   },
   "outputs": [
    {
     "data": {
      "text/plain": [
       "2.9999910146595905"
      ]
     },
     "execution_count": 24,
     "metadata": {},
     "output_type": "execute_result"
    }
   ],
   "source": [
    "df[\"std_duration\"].max()"
   ]
  },
  {
   "cell_type": "markdown",
   "id": "b056a6bc",
   "metadata": {
    "papermill": {
     "duration": 0.05592,
     "end_time": "2022-04-16T10:16:25.963344",
     "exception": false,
     "start_time": "2022-04-16T10:16:25.907424",
     "status": "completed"
    },
    "tags": []
   },
   "source": [
    "# Check for duplicates"
   ]
  },
  {
   "cell_type": "code",
   "execution_count": 25,
   "id": "1a97a6f0",
   "metadata": {
    "execution": {
     "iopub.execute_input": "2022-04-16T10:16:26.144930Z",
     "iopub.status.busy": "2022-04-16T10:16:26.144170Z",
     "iopub.status.idle": "2022-04-16T10:16:28.589109Z",
     "shell.execute_reply": "2022-04-16T10:16:28.589714Z",
     "shell.execute_reply.started": "2022-04-16T09:20:40.708277Z"
    },
    "papermill": {
     "duration": 2.569203,
     "end_time": "2022-04-16T10:16:28.589891",
     "exception": false,
     "start_time": "2022-04-16T10:16:26.020688",
     "status": "completed"
    },
    "tags": []
   },
   "outputs": [
    {
     "data": {
      "text/html": [
       "<div>\n",
       "<style scoped>\n",
       "    .dataframe tbody tr th:only-of-type {\n",
       "        vertical-align: middle;\n",
       "    }\n",
       "\n",
       "    .dataframe tbody tr th {\n",
       "        vertical-align: top;\n",
       "    }\n",
       "\n",
       "    .dataframe thead th {\n",
       "        text-align: right;\n",
       "    }\n",
       "</style>\n",
       "<table border=\"1\" class=\"dataframe\">\n",
       "  <thead>\n",
       "    <tr style=\"text-align: right;\">\n",
       "      <th></th>\n",
       "      <th>std_duration</th>\n",
       "      <th>ride_id</th>\n",
       "      <th>rideable_type</th>\n",
       "      <th>started_at</th>\n",
       "      <th>ended_at</th>\n",
       "      <th>start_station_name</th>\n",
       "      <th>start_station_id</th>\n",
       "      <th>end_station_name</th>\n",
       "      <th>end_station_id</th>\n",
       "      <th>start_lat</th>\n",
       "      <th>start_lng</th>\n",
       "      <th>end_lat</th>\n",
       "      <th>end_lng</th>\n",
       "      <th>member_casual</th>\n",
       "      <th>ride_duration_min</th>\n",
       "      <th>hour</th>\n",
       "      <th>day</th>\n",
       "      <th>month</th>\n",
       "    </tr>\n",
       "  </thead>\n",
       "  <tbody>\n",
       "  </tbody>\n",
       "</table>\n",
       "</div>"
      ],
      "text/plain": [
       "Empty DataFrame\n",
       "Columns: [std_duration, ride_id, rideable_type, started_at, ended_at, start_station_name, start_station_id, end_station_name, end_station_id, start_lat, start_lng, end_lat, end_lng, member_casual, ride_duration_min, hour, day, month]\n",
       "Index: []"
      ]
     },
     "execution_count": 25,
     "metadata": {},
     "output_type": "execute_result"
    }
   ],
   "source": [
    "#check for ride_id duplicates\n",
    "\n",
    "df[df.duplicated([\"ride_id\"], keep=False)]"
   ]
  },
  {
   "cell_type": "code",
   "execution_count": 26,
   "id": "2c86e9f9",
   "metadata": {
    "execution": {
     "iopub.execute_input": "2022-04-16T10:16:28.711093Z",
     "iopub.status.busy": "2022-04-16T10:16:28.710392Z",
     "iopub.status.idle": "2022-04-16T10:16:31.288966Z",
     "shell.execute_reply": "2022-04-16T10:16:31.288425Z",
     "shell.execute_reply.started": "2022-04-16T09:20:43.162963Z"
    },
    "papermill": {
     "duration": 2.638529,
     "end_time": "2022-04-16T10:16:31.289111",
     "exception": false,
     "start_time": "2022-04-16T10:16:28.650582",
     "status": "completed"
    },
    "tags": []
   },
   "outputs": [
    {
     "data": {
      "text/plain": [
       "False"
      ]
     },
     "execution_count": 26,
     "metadata": {},
     "output_type": "execute_result"
    }
   ],
   "source": [
    "df[\"ride_id\"].duplicated(keep = False).any()"
   ]
  },
  {
   "cell_type": "code",
   "execution_count": 27,
   "id": "bcb6b5f2",
   "metadata": {
    "execution": {
     "iopub.execute_input": "2022-04-16T10:16:31.409208Z",
     "iopub.status.busy": "2022-04-16T10:16:31.408116Z",
     "iopub.status.idle": "2022-04-16T10:16:42.727114Z",
     "shell.execute_reply": "2022-04-16T10:16:42.726491Z",
     "shell.execute_reply.started": "2022-04-16T09:20:45.670723Z"
    },
    "papermill": {
     "duration": 11.381609,
     "end_time": "2022-04-16T10:16:42.727262",
     "exception": false,
     "start_time": "2022-04-16T10:16:31.345653",
     "status": "completed"
    },
    "tags": []
   },
   "outputs": [
    {
     "data": {
      "text/plain": [
       "False"
      ]
     },
     "execution_count": 27,
     "metadata": {},
     "output_type": "execute_result"
    }
   ],
   "source": [
    "df.duplicated(keep = False).any()"
   ]
  },
  {
   "cell_type": "markdown",
   "id": "9bd42d2d",
   "metadata": {
    "papermill": {
     "duration": 0.055973,
     "end_time": "2022-04-16T10:16:42.840056",
     "exception": false,
     "start_time": "2022-04-16T10:16:42.784083",
     "status": "completed"
    },
    "tags": []
   },
   "source": [
    "# Data visualization and tables\n"
   ]
  },
  {
   "cell_type": "code",
   "execution_count": 28,
   "id": "957b9547",
   "metadata": {
    "execution": {
     "iopub.execute_input": "2022-04-16T10:16:42.978431Z",
     "iopub.status.busy": "2022-04-16T10:16:42.977505Z",
     "iopub.status.idle": "2022-04-16T10:16:43.608271Z",
     "shell.execute_reply": "2022-04-16T10:16:43.606923Z",
     "shell.execute_reply.started": "2022-04-16T09:21:01.179101Z"
    },
    "papermill": {
     "duration": 0.712653,
     "end_time": "2022-04-16T10:16:43.608567",
     "exception": false,
     "start_time": "2022-04-16T10:16:42.895914",
     "status": "completed"
    },
    "tags": []
   },
   "outputs": [
    {
     "data": {
      "text/plain": [
       "''"
      ]
     },
     "execution_count": 28,
     "metadata": {},
     "output_type": "execute_result"
    },
    {
     "data": {
      "image/png": "[encoded data removed]",
      "text/plain": [
       "<Figure size 720x504 with 1 Axes>"
      ]
     },
     "metadata": {},
     "output_type": "display_data"
    }
   ],
   "source": [
    "fig, ax = plt.subplots(figsize=(10, 7))\n",
    "\n",
    "ax.pie(df['member_casual'].value_counts(),\n",
    "       labels = [\"Member\", \"Casual\"],\n",
    "       autopct= '%1.1f%%')\n",
    "\n",
    "ax.set(title = \"User type\")\n",
    "\n",
    ";"
   ]
  },
  {
   "cell_type": "markdown",
   "id": "b7d8083d",
   "metadata": {
    "papermill": {
     "duration": 0.057725,
     "end_time": "2022-04-16T10:16:43.757434",
     "exception": false,
     "start_time": "2022-04-16T10:16:43.699709",
     "status": "completed"
    },
    "tags": []
   },
   "source": [
    "### Visualization of total rides per start hour by user type"
   ]
  },
  {
   "cell_type": "code",
   "execution_count": 29,
   "id": "cbe4b860",
   "metadata": {
    "execution": {
     "iopub.execute_input": "2022-04-16T10:16:43.877705Z",
     "iopub.status.busy": "2022-04-16T10:16:43.877020Z",
     "iopub.status.idle": "2022-04-16T10:16:45.392489Z",
     "shell.execute_reply": "2022-04-16T10:16:45.391888Z",
     "shell.execute_reply.started": "2022-04-16T09:21:01.843997Z"
    },
    "papermill": {
     "duration": 1.576115,
     "end_time": "2022-04-16T10:16:45.392638",
     "exception": false,
     "start_time": "2022-04-16T10:16:43.816523",
     "status": "completed"
    },
    "tags": []
   },
   "outputs": [
    {
     "data": {
      "image/png": "[encoded data removed]",
      "text/plain": [
       "<Figure size 720x504 with 1 Axes>"
      ]
     },
     "metadata": {},
     "output_type": "display_data"
    }
   ],
   "source": [
    "fig, ax = plt.subplots(figsize = (10,7))\n",
    "\n",
    "df[\"hour\"][df[\"member_casual\"] == \"member\"].value_counts().sort_index().plot(linewidth = 4, label = \"Member\")\n",
    "df[\"hour\"][df[\"member_casual\"] == \"casual\"].value_counts().sort_index().plot(linewidth = 4, label = \"Casual\")\n",
    "\n",
    "ax.set(title = \"Count of bike rides by hour for type of member\", xlabel = \"Hour\")\n",
    "\n",
    "ax.set_xlim(0,23)\n",
    "\n",
    "plt.xticks(range(0,24))\n",
    "\n",
    "plt.legend(loc = 'upper right');"
   ]
  },
  {
   "cell_type": "markdown",
   "id": "58c83ed3",
   "metadata": {
    "papermill": {
     "duration": 0.060533,
     "end_time": "2022-04-16T10:16:45.515144",
     "exception": false,
     "start_time": "2022-04-16T10:16:45.454611",
     "status": "completed"
    },
    "tags": []
   },
   "source": [
    "### Visualization of rides by the day of week by user type\n"
   ]
  },
  {
   "cell_type": "code",
   "execution_count": 30,
   "id": "5c806b80",
   "metadata": {
    "execution": {
     "iopub.execute_input": "2022-04-16T10:16:45.639240Z",
     "iopub.status.busy": "2022-04-16T10:16:45.638482Z",
     "iopub.status.idle": "2022-04-16T10:16:53.130185Z",
     "shell.execute_reply": "2022-04-16T10:16:53.129489Z",
     "shell.execute_reply.started": "2022-04-16T09:21:03.387882Z"
    },
    "papermill": {
     "duration": 7.555136,
     "end_time": "2022-04-16T10:16:53.130341",
     "exception": false,
     "start_time": "2022-04-16T10:16:45.575205",
     "status": "completed"
    },
    "tags": []
   },
   "outputs": [
    {
     "data": {
      "text/plain": [
       "''"
      ]
     },
     "execution_count": 30,
     "metadata": {},
     "output_type": "execute_result"
    },
    {
     "data": {
      "image/png": "[encoded data removed]",
      "text/plain": [
       "<Figure size 1296x504 with 2 Axes>"
      ]
     },
     "metadata": {},
     "output_type": "display_data"
    }
   ],
   "source": [
    "fig, (ax1, ax2) = plt.subplots(1, 2)\n",
    "fig.set_size_inches(18, 7)\n",
    "\n",
    "sns.countplot(x = df[\"day\"][df[\"member_casual\"] == \"member\"], \n",
    "              data = df, \n",
    "              order = [\"Monday\", \"Tuesday\", \"Wednesday\", \"Thursday\", \"Friday\", \"Saturday\", \"Sunday\"], \n",
    "              ax = ax1, \n",
    "              color = \"dodgerblue\")\n",
    "\n",
    "\n",
    "\n",
    "sns.countplot(x = df[\"day\"][df[\"member_casual\"] == \"casual\"], \n",
    "              data = df, \n",
    "              order = [\"Monday\", \"Tuesday\", \"Wednesday\", \"Thursday\", \"Friday\", \"Saturday\", \"Sunday\"], \n",
    "              ax = ax2,\n",
    "              color = \"dodgerblue\")\n",
    "\n",
    "ax1.set(title = \"Member\", xlabel = \"Day\")\n",
    "ax2.set(title = \"Casual\", xlabel = \"Day\")\n",
    "\n",
    "plt.suptitle(\"Total rides by the day of week\", fontsize=16)\n",
    ";"
   ]
  },
  {
   "cell_type": "code",
   "execution_count": 31,
   "id": "ef1464b8",
   "metadata": {
    "execution": {
     "iopub.execute_input": "2022-04-16T10:16:53.262236Z",
     "iopub.status.busy": "2022-04-16T10:16:53.261485Z",
     "iopub.status.idle": "2022-04-16T10:16:55.305324Z",
     "shell.execute_reply": "2022-04-16T10:16:55.305826Z",
     "shell.execute_reply.started": "2022-04-16T09:21:11.049219Z"
    },
    "papermill": {
     "duration": 2.114141,
     "end_time": "2022-04-16T10:16:55.306007",
     "exception": false,
     "start_time": "2022-04-16T10:16:53.191866",
     "status": "completed"
    },
    "tags": []
   },
   "outputs": [
    {
     "data": {
      "text/plain": [
       "''"
      ]
     },
     "execution_count": 31,
     "metadata": {},
     "output_type": "execute_result"
    },
    {
     "data": {
      "image/png": "[encoded data removed]",
      "text/plain": [
       "<Figure size 1296x504 with 2 Axes>"
      ]
     },
     "metadata": {},
     "output_type": "display_data"
    }
   ],
   "source": [
    "mem = df[\"day\"][df[\"member_casual\"]==\"member\"].value_counts().sort_index()\n",
    "cas = df[\"day\"][df[\"member_casual\"]==\"casual\"].value_counts().sort_index()\n",
    "days = [\"Friday\", \"Monday\", \"Saturday\", \"Sunday\", \"Thursday\", \"Tuesday\", \"Wednesday\"]\n",
    "\n",
    "fig, (ax1, ax2) = plt.subplots(1, 2)\n",
    "fig.set_size_inches(18, 7)\n",
    "\n",
    "ax1.pie(mem, labels = days, autopct='%1.1f%%')\n",
    "ax2.pie(cas, labels = days, autopct='%1.1f%%')\n",
    "\n",
    "ax1.set(title = \"Member\")\n",
    "ax2.set(title = \"Casual\")\n",
    "\n",
    "plt.suptitle(\"Total rides by the day of week\", fontsize = 16)\n",
    ";"
   ]
  },
  {
   "cell_type": "markdown",
   "id": "ae848a4d",
   "metadata": {
    "papermill": {
     "duration": 0.065315,
     "end_time": "2022-04-16T10:16:55.437336",
     "exception": false,
     "start_time": "2022-04-16T10:16:55.372021",
     "status": "completed"
    },
    "tags": []
   },
   "source": [
    "### Mean ride duration by the day of week"
   ]
  },
  {
   "cell_type": "code",
   "execution_count": 32,
   "id": "da31f6d4",
   "metadata": {
    "execution": {
     "iopub.execute_input": "2022-04-16T10:16:55.947691Z",
     "iopub.status.busy": "2022-04-16T10:16:55.591570Z",
     "iopub.status.idle": "2022-04-16T10:17:00.113047Z",
     "shell.execute_reply": "2022-04-16T10:17:00.113746Z",
     "shell.execute_reply.started": "2022-04-16T09:21:13.103860Z"
    },
    "papermill": {
     "duration": 4.609892,
     "end_time": "2022-04-16T10:17:00.113930",
     "exception": false,
     "start_time": "2022-04-16T10:16:55.504038",
     "status": "completed"
    },
    "tags": []
   },
   "outputs": [
    {
     "data": {
      "text/plain": [
       "''"
      ]
     },
     "execution_count": 32,
     "metadata": {},
     "output_type": "execute_result"
    },
    {
     "data": {
      "image/png": "[encoded data removed]",
      "text/plain": [
       "<Figure size 720x504 with 1 Axes>"
      ]
     },
     "metadata": {},
     "output_type": "display_data"
    }
   ],
   "source": [
    "fig, ax = plt.subplots(figsize=(10, 7))\n",
    "\n",
    "plt.ticklabel_format(style='plain')\n",
    "\n",
    "sns.barplot(\n",
    "    y = \"ride_duration_min\", \n",
    "    x = \"day\", \n",
    "    data = df, \n",
    "    ci = None, \n",
    "    hue = \"member_casual\",\n",
    "    order = [\"Monday\", \"Tuesday\", \"Wednesday\", \"Thursday\", \"Friday\", \"Saturday\", \"Sunday\"],\n",
    "    estimator = np.mean)\n",
    "\n",
    "ax.set(title = \"Mean of ride durations by the day of week\", \n",
    "      xlabel = \"Day of week\", \n",
    "      ylabel = \"Mean of ride duration(min)\")\n",
    "\n",
    "plt.legend(bbox_to_anchor=(1,1))\n",
    "\n",
    ";"
   ]
  },
  {
   "cell_type": "markdown",
   "id": "d8383543",
   "metadata": {
    "papermill": {
     "duration": 0.067039,
     "end_time": "2022-04-16T10:17:00.249897",
     "exception": false,
     "start_time": "2022-04-16T10:17:00.182858",
     "status": "completed"
    },
    "tags": []
   },
   "source": [
    "### Visualization of rides by month by user type"
   ]
  },
  {
   "cell_type": "code",
   "execution_count": 33,
   "id": "d9d26eba",
   "metadata": {
    "execution": {
     "iopub.execute_input": "2022-04-16T10:17:00.392360Z",
     "iopub.status.busy": "2022-04-16T10:17:00.391544Z",
     "iopub.status.idle": "2022-04-16T10:17:07.705086Z",
     "shell.execute_reply": "2022-04-16T10:17:07.705641Z",
     "shell.execute_reply.started": "2022-04-16T09:21:17.648801Z"
    },
    "papermill": {
     "duration": 7.389036,
     "end_time": "2022-04-16T10:17:07.705816",
     "exception": false,
     "start_time": "2022-04-16T10:17:00.316780",
     "status": "completed"
    },
    "tags": []
   },
   "outputs": [
    {
     "data": {
      "text/plain": [
       "''"
      ]
     },
     "execution_count": 33,
     "metadata": {},
     "output_type": "execute_result"
    },
    {
     "data": {
      "image/png": "[encoded data removed]",
      "text/plain": [
       "<Figure size 1296x504 with 2 Axes>"
      ]
     },
     "metadata": {},
     "output_type": "display_data"
    }
   ],
   "source": [
    "fig, (ax1, ax2) = plt.subplots(1, 2)\n",
    "fig.set_size_inches(18, 7)\n",
    "\n",
    "sns.countplot(x = df[\"month\"][df[\"member_casual\"] == \"member\"],\n",
    "              data = df, \n",
    "              ax = ax1, \n",
    "              color = \"dodgerblue\",\n",
    "              order = [\"Jan\", \"Feb\", \"Mar\", \"Apr\", \"May\", \"Jun\", \"Jul\", \"Aug\", \"Sep\", \"Oct\", \"Nov\", \"Dec\"])\n",
    "\n",
    "sns.countplot(x = df[\"month\"][df[\"member_casual\"] == \"casual\"],\n",
    "              data = df,  \n",
    "              ax = ax2,\n",
    "              color = \"dodgerblue\",\n",
    "              order = [\"Jan\", \"Feb\", \"Mar\", \"Apr\", \"May\", \"Jun\", \"Jul\", \"Aug\", \"Sep\", \"Oct\", \"Nov\", \"Dec\"])\n",
    "\n",
    "ax1.set(title = \"Member\", xlabel = \"Month\")\n",
    "ax2.set(title = \"Casual\", xlabel = \"Month\")\n",
    "\n",
    "plt.suptitle(\"Total rides by month\", fontsize=16)\n",
    ";"
   ]
  },
  {
   "cell_type": "markdown",
   "id": "337cca4d",
   "metadata": {
    "papermill": {
     "duration": 0.070021,
     "end_time": "2022-04-16T10:17:07.843791",
     "exception": false,
     "start_time": "2022-04-16T10:17:07.773770",
     "status": "completed"
    },
    "tags": []
   },
   "source": [
    "### Ride duration by the month"
   ]
  },
  {
   "cell_type": "code",
   "execution_count": 34,
   "id": "da35dbe5",
   "metadata": {
    "execution": {
     "iopub.execute_input": "2022-04-16T10:17:07.984384Z",
     "iopub.status.busy": "2022-04-16T10:17:07.983583Z",
     "iopub.status.idle": "2022-04-16T10:17:12.508350Z",
     "shell.execute_reply": "2022-04-16T10:17:12.509121Z",
     "shell.execute_reply.started": "2022-04-16T09:21:24.759608Z"
    },
    "papermill": {
     "duration": 4.597619,
     "end_time": "2022-04-16T10:17:12.509316",
     "exception": false,
     "start_time": "2022-04-16T10:17:07.911697",
     "status": "completed"
    },
    "tags": []
   },
   "outputs": [
    {
     "data": {
      "text/plain": [
       "''"
      ]
     },
     "execution_count": 34,
     "metadata": {},
     "output_type": "execute_result"
    },
    {
     "data": {
      "image/png": "[encoded data removed]",
      "text/plain": [
       "<Figure size 720x504 with 1 Axes>"
      ]
     },
     "metadata": {},
     "output_type": "display_data"
    }
   ],
   "source": [
    "fig, ax = plt.subplots(figsize=(10, 7))\n",
    "\n",
    "plt.ticklabel_format(style='plain')\n",
    "\n",
    "sns.barplot(\n",
    "    y = \"ride_duration_min\", \n",
    "    x = \"month\", \n",
    "    data = df, \n",
    "    ci = None, \n",
    "    hue = \"member_casual\",\n",
    "    estimator = np.mean,\n",
    "    order = [\"Jan\", \"Feb\", \"Mar\", \"Apr\", \"May\", \"Jun\", \"Jul\", \"Aug\", \"Sep\", \"Oct\", \"Nov\", \"Dec\"])\n",
    "\n",
    "ax.set(title = \"Mean of ride durations by the month\", \n",
    "      xlabel = \"Month\", \n",
    "      ylabel = \"Mean of ride duration(min)\")\n",
    "\n",
    "plt.legend()\n",
    "\n",
    ";"
   ]
  },
  {
   "cell_type": "markdown",
   "id": "c919b020",
   "metadata": {
    "papermill": {
     "duration": 0.06986,
     "end_time": "2022-04-16T10:17:12.649230",
     "exception": false,
     "start_time": "2022-04-16T10:17:12.579370",
     "status": "completed"
    },
    "tags": []
   },
   "source": [
    "## Bike type visualization"
   ]
  },
  {
   "cell_type": "code",
   "execution_count": 35,
   "id": "d2d49376",
   "metadata": {
    "execution": {
     "iopub.execute_input": "2022-04-16T10:17:13.338412Z",
     "iopub.status.busy": "2022-04-16T10:17:13.336857Z",
     "iopub.status.idle": "2022-04-16T10:17:14.717262Z",
     "shell.execute_reply": "2022-04-16T10:17:14.717733Z",
     "shell.execute_reply.started": "2022-04-16T09:21:29.138948Z"
    },
    "papermill": {
     "duration": 1.999162,
     "end_time": "2022-04-16T10:17:14.717909",
     "exception": false,
     "start_time": "2022-04-16T10:17:12.718747",
     "status": "completed"
    },
    "tags": []
   },
   "outputs": [
    {
     "data": {
      "text/plain": [
       "''"
      ]
     },
     "execution_count": 35,
     "metadata": {},
     "output_type": "execute_result"
    },
    {
     "data": {
      "image/png": "[encoded data removed]",
      "text/plain": [
       "<Figure size 1296x504 with 2 Axes>"
      ]
     },
     "metadata": {},
     "output_type": "display_data"
    }
   ],
   "source": [
    "mem = df[\"rideable_type\"][df[\"member_casual\"]==\"member\"].value_counts()\n",
    "cas = df[\"rideable_type\"][df[\"member_casual\"]==\"casual\"].value_counts()\n",
    "types = [\"Docked bike\", \"Electric bike\", \"Classic bike\"]\n",
    "\n",
    "fig, (ax1, ax2) = plt.subplots(1, 2)\n",
    "fig.set_size_inches(18, 7)\n",
    "\n",
    "ax1.pie(mem, labels = types, autopct='%1.1f%%', textprops={'fontsize': 12})\n",
    "ax2.pie(cas, labels = types, autopct='%1.1f%%', textprops={'fontsize': 12})\n",
    "\n",
    "\n",
    "ax1.set_title(\"Member\", fontsize = 16)\n",
    "ax2.set_title(\"Casual\", fontsize = 16)\n",
    "\n",
    "plt.suptitle(\"Bike types by user type\", fontsize = 16)\n",
    ";"
   ]
  },
  {
   "cell_type": "markdown",
   "id": "4bcea019",
   "metadata": {
    "papermill": {
     "duration": 0.071751,
     "end_time": "2022-04-16T10:17:14.864815",
     "exception": false,
     "start_time": "2022-04-16T10:17:14.793064",
     "status": "completed"
    },
    "tags": []
   },
   "source": [
    "# Wrap up"
   ]
  },
  {
   "cell_type": "markdown",
   "id": "d4b15d68",
   "metadata": {
    "papermill": {
     "duration": 0.070987,
     "end_time": "2022-04-16T10:17:15.008317",
     "exception": false,
     "start_time": "2022-04-16T10:17:14.937330",
     "status": "completed"
    },
    "tags": []
   },
   "source": [
    "Through this project I managed to get some insights into data regarding the differences between bike usage of member and casual riders. I changed data types, created new varibales, checked for duplicated and missing data, removed data and finally did the data visualization."
   ]
  },
  {
   "cell_type": "markdown",
   "id": "dc93d73d",
   "metadata": {
    "papermill": {
     "duration": 0.070441,
     "end_time": "2022-04-16T10:17:15.149919",
     "exception": false,
     "start_time": "2022-04-16T10:17:15.079478",
     "status": "completed"
    },
    "tags": []
   },
   "source": [
    "From the analysis of this dataset we can conclude following:\n",
    "\n",
    "* approximately 3/5 of riders are members, 2/5 are casual\n",
    "* most rides happen aftenoon around the end of worktime (15-18)\n",
    "* member riders ride bikes consistently through the whole week, while the casual riders ride bikes with increase on friday and weekend\n",
    "* we can say that the average ride duration is consistent through every day of week, both for members and casual riders\n",
    "* ride duration of casual riders is more then two times longer then ride duration of member riders through every day of week\n",
    "* most bike rides happen in months with good weather (Jun-Oct), for both member and casual riders\n",
    "* average ride duration for casual riders is almost two times longer in months with good weather (Jan-20 min: Jul-40+ min), while there is no bigger difference for the member riders\n",
    "* 80% of rides are made with docked bike. Member riders use slightly more classic bikes then casual riders"
   ]
  },
  {
   "cell_type": "code",
   "execution_count": null,
   "id": "0b35f253",
   "metadata": {
    "papermill": {
     "duration": 0.071816,
     "end_time": "2022-04-16T10:17:15.293813",
     "exception": false,
     "start_time": "2022-04-16T10:17:15.221997",
     "status": "completed"
    },
    "tags": []
   },
   "outputs": [],
   "source": []
  }
 ],
 "metadata": {
  "kernelspec": {
   "display_name": "Python 3",
   "language": "python",
   "name": "python3"
  },
  "language_info": {
   "codemirror_mode": {
    "name": "ipython",
    "version": 3
   },
   "file_extension": ".py",
   "mimetype": "text/x-python",
   "name": "python",
   "nbconvert_exporter": "python",
   "pygments_lexer": "ipython3",
   "version": "3.7.12"
  },
  "papermill": {
   "default_parameters": {},
   "duration": 138.850928,
   "end_time": "2022-04-16T10:17:17.282205",
   "environment_variables": {},
   "exception": null,
   "input_path": "__notebook__.ipynb",
   "output_path": "__notebook__.ipynb",
   "parameters": {},
   "start_time": "2022-04-16T10:14:58.431277",
   "version": "2.3.3"
  }
 },
 "nbformat": 4,
 "nbformat_minor": 5
}
